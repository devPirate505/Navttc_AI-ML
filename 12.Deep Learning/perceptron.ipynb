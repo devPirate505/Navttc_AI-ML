{
 "cells": [
  {
   "cell_type": "code",
   "execution_count": 48,
   "id": "47df254f",
   "metadata": {},
   "outputs": [],
   "source": [
    "import numpy as np"
   ]
  },
  {
   "cell_type": "code",
   "execution_count": 49,
   "id": "68647388",
   "metadata": {},
   "outputs": [],
   "source": [
    "# Each row = [hours_studied, hours_slept]\n",
    "X = np.array([\n",
    "    [2, 9],  # Student A -> Fail\n",
    "    [4, 8],  # Student B -> Fail\n",
    "    [6, 6],  # Student C -> Pass\n",
    "    [8, 5],  # Student D -> Pass\n",
    "])\n",
    "\n",
    "# Target outputs: 0 = Fail, 1 = Pass\n",
    "y = np.array([0, 0, 1, 1])"
   ]
  },
  {
   "cell_type": "code",
   "execution_count": 50,
   "id": "628443a5",
   "metadata": {},
   "outputs": [
    {
     "name": "stdout",
     "output_type": "stream",
     "text": [
      "Initial weights: [0.57908347 0.79584743]\n",
      "Initial bias: -0.2522771000256747\n"
     ]
    }
   ],
   "source": [
    "learning_rate = 0.1\n",
    "epochs = 10  # number of times we’ll go through the dataset\n",
    "\n",
    "# Initialize weights and bias randomly\n",
    "w = np.random.uniform(-1, 1, X.shape[1])\n",
    "b = np.random.uniform(-1, 1)\n",
    "\n",
    "print(\"Initial weights:\", w)\n",
    "print(\"Initial bias:\", b)"
   ]
  },
  {
   "cell_type": "code",
   "execution_count": 51,
   "id": "0fcd580b",
   "metadata": {},
   "outputs": [],
   "source": [
    "def step_function(z):\n",
    "    return 1 if z >= 0 else 0"
   ]
  },
  {
   "cell_type": "code",
   "execution_count": 52,
   "id": "53c2da33",
   "metadata": {},
   "outputs": [
    {
     "name": "stdout",
     "output_type": "stream",
     "text": [
      "\n",
      "Epoch 1\n",
      "Input: [2 9], Target: 0, Predicted: 1, New Weights: [ 0.37908347 -0.10415257], Bias: -0.3522771000256747\n",
      "Input: [4 8], Target: 0, Predicted: 1, New Weights: [-0.02091653 -0.90415257], Bias: -0.45227710002567467\n",
      "Input: [6 6], Target: 1, Predicted: 0, New Weights: [ 0.57908347 -0.30415257], Bias: -0.3522771000256747\n",
      "Input: [8 5], Target: 1, Predicted: 1, New Weights: [ 0.57908347 -0.30415257], Bias: -0.3522771000256747\n",
      "\n",
      "Epoch 2\n",
      "Input: [2 9], Target: 0, Predicted: 0, New Weights: [ 0.57908347 -0.30415257], Bias: -0.3522771000256747\n",
      "Input: [4 8], Target: 0, Predicted: 0, New Weights: [ 0.57908347 -0.30415257], Bias: -0.3522771000256747\n",
      "Input: [6 6], Target: 1, Predicted: 1, New Weights: [ 0.57908347 -0.30415257], Bias: -0.3522771000256747\n",
      "Input: [8 5], Target: 1, Predicted: 1, New Weights: [ 0.57908347 -0.30415257], Bias: -0.3522771000256747\n",
      "\n",
      "Training converged early — no errors left ✅\n",
      "\n",
      "Final Weights: [ 0.57908347 -0.30415257]\n",
      "Final Bias: -0.3522771000256747\n",
      "========================================\n"
     ]
    }
   ],
   "source": [
    "#  Training lopp\n",
    "for epoch in range(epochs):\n",
    "    print(f\"\\nEpoch {epoch + 1}\")\n",
    "    errors = 0\n",
    "\n",
    "    for i in range(len(X)):\n",
    "        x_i = X[i]\n",
    "        target = y[i]\n",
    "\n",
    "        # Weighted sum\n",
    "        z = np.dot(w, x_i) + b\n",
    "        # Prediction\n",
    "        y_pred = step_function(z)\n",
    "\n",
    "        # Error\n",
    "        error = target - y_pred\n",
    "\n",
    "        # Update weights and bias if wrong prediction\n",
    "        if error != 0:\n",
    "            w = w + learning_rate * error * x_i\n",
    "            b = b + learning_rate * error\n",
    "            errors += 1\n",
    "\n",
    "        print(f\"Input: {x_i}, Target: {target}, Predicted: {y_pred}, New Weights: {w}, Bias: {b}\")\n",
    "\n",
    "    # Stop early if no errors in this epoch\n",
    "    if errors == 0:\n",
    "        print(\"\\nTraining converged early — no errors left ✅\")\n",
    "        break\n",
    "\n",
    "print(\"\\nFinal Weights:\", w)\n",
    "print(\"Final Bias:\", b)\n",
    "print(\"=\"*40)"
   ]
  },
  {
   "cell_type": "code",
   "execution_count": 53,
   "id": "5a2beeb0",
   "metadata": {},
   "outputs": [],
   "source": [
    "def predict(hours_studied, hours_slept):\n",
    "    z = w[0]*hours_studied + w[1]*hours_slept + b\n",
    "    return step_function(z)"
   ]
  },
  {
   "cell_type": "code",
   "execution_count": 54,
   "id": "ef046cdc",
   "metadata": {},
   "outputs": [],
   "source": [
    "# Test new students\n",
    "test_data = [\n",
    "    [5, 7],  # Expected: Pass\n",
    "    [2, 6],  # Expected: Fail\n",
    "    [7, 5],  # Expected: Pass\n",
    "    [3, 9]   # Expected: Fail\n",
    "]"
   ]
  },
  {
   "cell_type": "code",
   "execution_count": 55,
   "id": "57f0a2cf",
   "metadata": {},
   "outputs": [
    {
     "name": "stdout",
     "output_type": "stream",
     "text": [
      "\n",
      "Testing new students:\n",
      "Hours Studied: 5, Hours Slept: 7 --> Predicted: Pass\n",
      "Hours Studied: 2, Hours Slept: 6 --> Predicted: Fail\n",
      "Hours Studied: 7, Hours Slept: 5 --> Predicted: Pass\n",
      "Hours Studied: 3, Hours Slept: 9 --> Predicted: Fail\n"
     ]
    }
   ],
   "source": [
    "print(\"\\nTesting new students:\")\n",
    "for data in test_data:\n",
    "    result = predict(data[0], data[1])\n",
    "    status = \"Pass\" if result == 1 else \"Fail\"\n",
    "    print(f\"Hours Studied: {data[0]}, Hours Slept: {data[1]} --> Predicted: {status}\")"
   ]
  },
  {
   "cell_type": "code",
   "execution_count": 56,
   "id": "b1e28484",
   "metadata": {},
   "outputs": [],
   "source": [
    "import matplotlib.pyplot as plt"
   ]
  },
  {
   "cell_type": "code",
   "execution_count": 57,
   "id": "5cb79782",
   "metadata": {},
   "outputs": [
    {
     "data": {
      "image/png": "[encoded data removed]",
      "text/plain": [
       "<Figure size 640x480 with 1 Axes>"
      ]
     },
     "metadata": {},
     "output_type": "display_data"
    }
   ],
   "source": [
    "\n",
    "# Create a scatter plot of training data\n",
    "for i in range(len(X)):\n",
    "    if y[i] == 0:\n",
    "        plt.scatter(X[i][0], X[i][1], color='red', marker='o', label='Fail' if i == 0 else \"\")\n",
    "    else:\n",
    "        plt.scatter(X[i][0], X[i][1], color='green', marker='x', label='Pass' if i == 2 else \"\")\n",
    "\n",
    "# Plot decision boundary line\n",
    "# Equation: w1*x + w2*y + b = 0 --> y = -(w1/w2)*x - (b/w2)\n",
    "x_vals = np.linspace(0, 10, 100)\n",
    "y_vals = -(w[0] / w[1]) * x_vals - (b / w[1])\n",
    "\n",
    "plt.plot(x_vals, y_vals, color='blue', label='Decision Boundary')\n",
    "\n",
    "# Labels and title\n",
    "plt.xlabel(\"Hours Studied\")\n",
    "plt.ylabel(\"Hours Slept\")\n",
    "plt.title(\"Perceptron Decision Boundary: Pass vs Fail\")\n",
    "plt.legend()\n",
    "plt.grid(True)\n",
    "plt.show()\n"
   ]
  }
 ],
 "metadata": {
  "kernelspec": {
   "display_name": "Python 3",
   "language": "python",
   "name": "python3"
  },
  "language_info": {
   "codemirror_mode": {
    "name": "ipython",
    "version": 3
   },
   "file_extension": ".py",
   "mimetype": "text/x-python",
   "name": "python",
   "nbconvert_exporter": "python",
   "pygments_lexer": "ipython3",
   "version": "3.12.3"
  }
 },
 "nbformat": 4,
 "nbformat_minor": 5
}
