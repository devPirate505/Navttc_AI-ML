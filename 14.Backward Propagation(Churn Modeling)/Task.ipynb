{
  "cells": [
    {
      "cell_type": "markdown",
      "metadata": {
        "colab_type": "text",
        "id": "view-in-github"
      },
      "source": [
        "<a href=\"https://colab.research.google.com/github/musharrafhamraz/deep-learning-uconnect/blob/main/day_3.ipynb\" target=\"_parent\"><img src=\"https://colab.research.google.com/assets/colab-badge.svg\" alt=\"Open In Colab\"/></a>"
      ]
    },
    {
      "cell_type": "code",
      "execution_count": 1,
      "metadata": {
        "execution": {
          "iopub.execute_input": "2022-03-24T14:53:49.536453Z",
          "iopub.status.busy": "2022-03-24T14:53:49.535827Z",
          "iopub.status.idle": "2022-03-24T14:53:49.546069Z",
          "shell.execute_reply": "2022-03-24T14:53:49.545308Z",
          "shell.execute_reply.started": "2022-03-24T14:53:49.536378Z"
        },
        "id": "c8S23WDm8CXR",
        "trusted": true
      },
      "outputs": [],
      "source": [
        "import numpy as np\n",
        "import pandas as pd\n",
        "from matplotlib import pyplot as plt"
      ]
    },
    {
      "cell_type": "code",
      "execution_count": 32,
      "metadata": {
        "execution": {
          "iopub.execute_input": "2022-03-24T14:53:49.567019Z",
          "iopub.status.busy": "2022-03-24T14:53:49.566504Z",
          "iopub.status.idle": "2022-03-24T14:53:49.593669Z",
          "shell.execute_reply": "2022-03-24T14:53:49.593006Z",
          "shell.execute_reply.started": "2022-03-24T14:53:49.566983Z"
        },
        "id": "rQDKSTnF8CXT",
        "trusted": true
      },
      "outputs": [],
      "source": [
        "df=pd.read_csv('./Churn_Modelling.csv')"
      ]
    },
    {
      "cell_type": "code",
      "execution_count": 33,
      "metadata": {
        "execution": {
          "iopub.execute_input": "2022-03-24T14:53:49.59634Z",
          "iopub.status.busy": "2022-03-24T14:53:49.595907Z",
          "iopub.status.idle": "2022-03-24T14:53:49.615387Z",
          "shell.execute_reply": "2022-03-24T14:53:49.614141Z",
          "shell.execute_reply.started": "2022-03-24T14:53:49.596304Z"
        },
        "id": "WzxkPIji8CXT",
        "trusted": true
      },
      "outputs": [
        {
          "data": {
            "text/html": [
              "<div>\n",
              "<style scoped>\n",
              "    .dataframe tbody tr th:only-of-type {\n",
              "        vertical-align: middle;\n",
              "    }\n",
              "\n",
              "    .dataframe tbody tr th {\n",
              "        vertical-align: top;\n",
              "    }\n",
              "\n",
              "    .dataframe thead th {\n",
              "        text-align: right;\n",
              "    }\n",
              "</style>\n",
              "<table border=\"1\" class=\"dataframe\">\n",
              "  <thead>\n",
              "    <tr style=\"text-align: right;\">\n",
              "      <th></th>\n",
              "      <th>RowNumber</th>\n",
              "      <th>CustomerId</th>\n",
              "      <th>Surname</th>\n",
              "      <th>CreditScore</th>\n",
              "      <th>Geography</th>\n",
              "      <th>Gender</th>\n",
              "      <th>Age</th>\n",
              "      <th>Tenure</th>\n",
              "      <th>Balance</th>\n",
              "      <th>NumOfProducts</th>\n",
              "      <th>HasCrCard</th>\n",
              "      <th>IsActiveMember</th>\n",
              "      <th>EstimatedSalary</th>\n",
              "      <th>Exited</th>\n",
              "    </tr>\n",
              "  </thead>\n",
              "  <tbody>\n",
              "    <tr>\n",
              "      <th>0</th>\n",
              "      <td>1</td>\n",
              "      <td>15634602</td>\n",
              "      <td>Hargrave</td>\n",
              "      <td>619</td>\n",
              "      <td>France</td>\n",
              "      <td>Female</td>\n",
              "      <td>42.0</td>\n",
              "      <td>2</td>\n",
              "      <td>0.00</td>\n",
              "      <td>1</td>\n",
              "      <td>1.0</td>\n",
              "      <td>1.0</td>\n",
              "      <td>101348.88</td>\n",
              "      <td>1</td>\n",
              "    </tr>\n",
              "    <tr>\n",
              "      <th>1</th>\n",
              "      <td>2</td>\n",
              "      <td>15647311</td>\n",
              "      <td>Hill</td>\n",
              "      <td>608</td>\n",
              "      <td>Spain</td>\n",
              "      <td>Female</td>\n",
              "      <td>41.0</td>\n",
              "      <td>1</td>\n",
              "      <td>83807.86</td>\n",
              "      <td>1</td>\n",
              "      <td>0.0</td>\n",
              "      <td>1.0</td>\n",
              "      <td>112542.58</td>\n",
              "      <td>0</td>\n",
              "    </tr>\n",
              "    <tr>\n",
              "      <th>2</th>\n",
              "      <td>3</td>\n",
              "      <td>15619304</td>\n",
              "      <td>Onio</td>\n",
              "      <td>502</td>\n",
              "      <td>France</td>\n",
              "      <td>Female</td>\n",
              "      <td>42.0</td>\n",
              "      <td>8</td>\n",
              "      <td>159660.80</td>\n",
              "      <td>3</td>\n",
              "      <td>1.0</td>\n",
              "      <td>0.0</td>\n",
              "      <td>113931.57</td>\n",
              "      <td>1</td>\n",
              "    </tr>\n",
              "    <tr>\n",
              "      <th>3</th>\n",
              "      <td>4</td>\n",
              "      <td>15701354</td>\n",
              "      <td>Boni</td>\n",
              "      <td>699</td>\n",
              "      <td>France</td>\n",
              "      <td>Female</td>\n",
              "      <td>39.0</td>\n",
              "      <td>1</td>\n",
              "      <td>0.00</td>\n",
              "      <td>2</td>\n",
              "      <td>0.0</td>\n",
              "      <td>0.0</td>\n",
              "      <td>93826.63</td>\n",
              "      <td>0</td>\n",
              "    </tr>\n",
              "    <tr>\n",
              "      <th>4</th>\n",
              "      <td>5</td>\n",
              "      <td>15737888</td>\n",
              "      <td>Mitchell</td>\n",
              "      <td>850</td>\n",
              "      <td>Spain</td>\n",
              "      <td>Female</td>\n",
              "      <td>43.0</td>\n",
              "      <td>2</td>\n",
              "      <td>125510.82</td>\n",
              "      <td>1</td>\n",
              "      <td>NaN</td>\n",
              "      <td>1.0</td>\n",
              "      <td>79084.10</td>\n",
              "      <td>0</td>\n",
              "    </tr>\n",
              "  </tbody>\n",
              "</table>\n",
              "</div>"
            ],
            "text/plain": [
              "   RowNumber  CustomerId   Surname  CreditScore Geography  Gender   Age  \\\n",
              "0          1    15634602  Hargrave          619    France  Female  42.0   \n",
              "1          2    15647311      Hill          608     Spain  Female  41.0   \n",
              "2          3    15619304      Onio          502    France  Female  42.0   \n",
              "3          4    15701354      Boni          699    France  Female  39.0   \n",
              "4          5    15737888  Mitchell          850     Spain  Female  43.0   \n",
              "\n",
              "   Tenure    Balance  NumOfProducts  HasCrCard  IsActiveMember  \\\n",
              "0       2       0.00              1        1.0             1.0   \n",
              "1       1   83807.86              1        0.0             1.0   \n",
              "2       8  159660.80              3        1.0             0.0   \n",
              "3       1       0.00              2        0.0             0.0   \n",
              "4       2  125510.82              1        NaN             1.0   \n",
              "\n",
              "   EstimatedSalary  Exited  \n",
              "0        101348.88       1  \n",
              "1        112542.58       0  \n",
              "2        113931.57       1  \n",
              "3         93826.63       0  \n",
              "4         79084.10       0  "
            ]
          },
          "execution_count": 33,
          "metadata": {},
          "output_type": "execute_result"
        }
      ],
      "source": [
        "df.head()"
      ]
    },
    {
      "cell_type": "code",
      "execution_count": 34,
      "metadata": {
        "execution": {
          "iopub.execute_input": "2022-03-24T14:53:49.616714Z",
          "iopub.status.busy": "2022-03-24T14:53:49.616247Z",
          "iopub.status.idle": "2022-03-24T14:53:49.622401Z",
          "shell.execute_reply": "2022-03-24T14:53:49.621544Z",
          "shell.execute_reply.started": "2022-03-24T14:53:49.616678Z"
        },
        "id": "YdhDhkE48CXU",
        "trusted": true
      },
      "outputs": [],
      "source": [
        "df.drop(columns = ['RowNumber','CustomerId','Surname'], inplace= True )"
      ]
    },
    {
      "cell_type": "code",
      "execution_count": 35,
      "metadata": {
        "execution": {
          "iopub.execute_input": "2022-03-24T14:53:49.624329Z",
          "iopub.status.busy": "2022-03-24T14:53:49.62401Z",
          "iopub.status.idle": "2022-03-24T14:53:49.641124Z",
          "shell.execute_reply": "2022-03-24T14:53:49.640448Z",
          "shell.execute_reply.started": "2022-03-24T14:53:49.624294Z"
        },
        "id": "SPxNlzS68CXU",
        "trusted": true
      },
      "outputs": [
        {
          "data": {
            "text/html": [
              "<div>\n",
              "<style scoped>\n",
              "    .dataframe tbody tr th:only-of-type {\n",
              "        vertical-align: middle;\n",
              "    }\n",
              "\n",
              "    .dataframe tbody tr th {\n",
              "        vertical-align: top;\n",
              "    }\n",
              "\n",
              "    .dataframe thead th {\n",
              "        text-align: right;\n",
              "    }\n",
              "</style>\n",
              "<table border=\"1\" class=\"dataframe\">\n",
              "  <thead>\n",
              "    <tr style=\"text-align: right;\">\n",
              "      <th></th>\n",
              "      <th>CreditScore</th>\n",
              "      <th>Geography</th>\n",
              "      <th>Gender</th>\n",
              "      <th>Age</th>\n",
              "      <th>Tenure</th>\n",
              "      <th>Balance</th>\n",
              "      <th>NumOfProducts</th>\n",
              "      <th>HasCrCard</th>\n",
              "      <th>IsActiveMember</th>\n",
              "      <th>EstimatedSalary</th>\n",
              "      <th>Exited</th>\n",
              "    </tr>\n",
              "  </thead>\n",
              "  <tbody>\n",
              "    <tr>\n",
              "      <th>0</th>\n",
              "      <td>619</td>\n",
              "      <td>France</td>\n",
              "      <td>Female</td>\n",
              "      <td>42.0</td>\n",
              "      <td>2</td>\n",
              "      <td>0.00</td>\n",
              "      <td>1</td>\n",
              "      <td>1.0</td>\n",
              "      <td>1.0</td>\n",
              "      <td>101348.88</td>\n",
              "      <td>1</td>\n",
              "    </tr>\n",
              "    <tr>\n",
              "      <th>1</th>\n",
              "      <td>608</td>\n",
              "      <td>Spain</td>\n",
              "      <td>Female</td>\n",
              "      <td>41.0</td>\n",
              "      <td>1</td>\n",
              "      <td>83807.86</td>\n",
              "      <td>1</td>\n",
              "      <td>0.0</td>\n",
              "      <td>1.0</td>\n",
              "      <td>112542.58</td>\n",
              "      <td>0</td>\n",
              "    </tr>\n",
              "    <tr>\n",
              "      <th>2</th>\n",
              "      <td>502</td>\n",
              "      <td>France</td>\n",
              "      <td>Female</td>\n",
              "      <td>42.0</td>\n",
              "      <td>8</td>\n",
              "      <td>159660.80</td>\n",
              "      <td>3</td>\n",
              "      <td>1.0</td>\n",
              "      <td>0.0</td>\n",
              "      <td>113931.57</td>\n",
              "      <td>1</td>\n",
              "    </tr>\n",
              "    <tr>\n",
              "      <th>3</th>\n",
              "      <td>699</td>\n",
              "      <td>France</td>\n",
              "      <td>Female</td>\n",
              "      <td>39.0</td>\n",
              "      <td>1</td>\n",
              "      <td>0.00</td>\n",
              "      <td>2</td>\n",
              "      <td>0.0</td>\n",
              "      <td>0.0</td>\n",
              "      <td>93826.63</td>\n",
              "      <td>0</td>\n",
              "    </tr>\n",
              "    <tr>\n",
              "      <th>4</th>\n",
              "      <td>850</td>\n",
              "      <td>Spain</td>\n",
              "      <td>Female</td>\n",
              "      <td>43.0</td>\n",
              "      <td>2</td>\n",
              "      <td>125510.82</td>\n",
              "      <td>1</td>\n",
              "      <td>NaN</td>\n",
              "      <td>1.0</td>\n",
              "      <td>79084.10</td>\n",
              "      <td>0</td>\n",
              "    </tr>\n",
              "  </tbody>\n",
              "</table>\n",
              "</div>"
            ],
            "text/plain": [
              "   CreditScore Geography  Gender   Age  Tenure    Balance  NumOfProducts  \\\n",
              "0          619    France  Female  42.0       2       0.00              1   \n",
              "1          608     Spain  Female  41.0       1   83807.86              1   \n",
              "2          502    France  Female  42.0       8  159660.80              3   \n",
              "3          699    France  Female  39.0       1       0.00              2   \n",
              "4          850     Spain  Female  43.0       2  125510.82              1   \n",
              "\n",
              "   HasCrCard  IsActiveMember  EstimatedSalary  Exited  \n",
              "0        1.0             1.0        101348.88       1  \n",
              "1        0.0             1.0        112542.58       0  \n",
              "2        1.0             0.0        113931.57       1  \n",
              "3        0.0             0.0         93826.63       0  \n",
              "4        NaN             1.0         79084.10       0  "
            ]
          },
          "execution_count": 35,
          "metadata": {},
          "output_type": "execute_result"
        }
      ],
      "source": [
        "df.head()"
      ]
    },
    {
      "cell_type": "code",
      "execution_count": 36,
      "metadata": {
        "execution": {
          "iopub.execute_input": "2022-03-24T14:53:49.642793Z",
          "iopub.status.busy": "2022-03-24T14:53:49.642375Z",
          "iopub.status.idle": "2022-03-24T14:53:49.65303Z",
          "shell.execute_reply": "2022-03-24T14:53:49.652194Z",
          "shell.execute_reply.started": "2022-03-24T14:53:49.64276Z"
        },
        "id": "fRMI9DrZ8CXU",
        "trusted": true
      },
      "outputs": [
        {
          "data": {
            "text/plain": [
              "CreditScore        0\n",
              "Geography          1\n",
              "Gender             0\n",
              "Age                1\n",
              "Tenure             0\n",
              "Balance            0\n",
              "NumOfProducts      0\n",
              "HasCrCard          1\n",
              "IsActiveMember     1\n",
              "EstimatedSalary    0\n",
              "Exited             0\n",
              "dtype: int64"
            ]
          },
          "execution_count": 36,
          "metadata": {},
          "output_type": "execute_result"
        }
      ],
      "source": [
        "df.isnull().sum()"
      ]
    },
    {
      "cell_type": "code",
      "execution_count": 37,
      "metadata": {
        "execution": {
          "iopub.execute_input": "2022-03-24T14:53:49.656536Z",
          "iopub.status.busy": "2022-03-24T14:53:49.654016Z",
          "iopub.status.idle": "2022-03-24T14:53:49.691239Z",
          "shell.execute_reply": "2022-03-24T14:53:49.690577Z",
          "shell.execute_reply.started": "2022-03-24T14:53:49.656497Z"
        },
        "id": "3ArRjwLW8CXU",
        "trusted": true
      },
      "outputs": [
        {
          "data": {
            "text/html": [
              "<div>\n",
              "<style scoped>\n",
              "    .dataframe tbody tr th:only-of-type {\n",
              "        vertical-align: middle;\n",
              "    }\n",
              "\n",
              "    .dataframe tbody tr th {\n",
              "        vertical-align: top;\n",
              "    }\n",
              "\n",
              "    .dataframe thead th {\n",
              "        text-align: right;\n",
              "    }\n",
              "</style>\n",
              "<table border=\"1\" class=\"dataframe\">\n",
              "  <thead>\n",
              "    <tr style=\"text-align: right;\">\n",
              "      <th></th>\n",
              "      <th>CreditScore</th>\n",
              "      <th>Age</th>\n",
              "      <th>Tenure</th>\n",
              "      <th>Balance</th>\n",
              "      <th>NumOfProducts</th>\n",
              "      <th>HasCrCard</th>\n",
              "      <th>IsActiveMember</th>\n",
              "      <th>EstimatedSalary</th>\n",
              "      <th>Exited</th>\n",
              "    </tr>\n",
              "  </thead>\n",
              "  <tbody>\n",
              "    <tr>\n",
              "      <th>count</th>\n",
              "      <td>10002.000000</td>\n",
              "      <td>10001.000000</td>\n",
              "      <td>10002.000000</td>\n",
              "      <td>10002.000000</td>\n",
              "      <td>10002.000000</td>\n",
              "      <td>10001.000000</td>\n",
              "      <td>10001.000000</td>\n",
              "      <td>10002.000000</td>\n",
              "      <td>10002.000000</td>\n",
              "    </tr>\n",
              "    <tr>\n",
              "      <th>mean</th>\n",
              "      <td>650.555089</td>\n",
              "      <td>38.922311</td>\n",
              "      <td>5.012498</td>\n",
              "      <td>76491.112875</td>\n",
              "      <td>1.530194</td>\n",
              "      <td>0.705529</td>\n",
              "      <td>0.514949</td>\n",
              "      <td>100083.331145</td>\n",
              "      <td>0.203759</td>\n",
              "    </tr>\n",
              "    <tr>\n",
              "      <th>std</th>\n",
              "      <td>96.661615</td>\n",
              "      <td>10.487200</td>\n",
              "      <td>2.891973</td>\n",
              "      <td>62393.474144</td>\n",
              "      <td>0.581639</td>\n",
              "      <td>0.455827</td>\n",
              "      <td>0.499801</td>\n",
              "      <td>57508.117802</td>\n",
              "      <td>0.402812</td>\n",
              "    </tr>\n",
              "    <tr>\n",
              "      <th>min</th>\n",
              "      <td>350.000000</td>\n",
              "      <td>18.000000</td>\n",
              "      <td>0.000000</td>\n",
              "      <td>0.000000</td>\n",
              "      <td>1.000000</td>\n",
              "      <td>0.000000</td>\n",
              "      <td>0.000000</td>\n",
              "      <td>11.580000</td>\n",
              "      <td>0.000000</td>\n",
              "    </tr>\n",
              "    <tr>\n",
              "      <th>25%</th>\n",
              "      <td>584.000000</td>\n",
              "      <td>32.000000</td>\n",
              "      <td>3.000000</td>\n",
              "      <td>0.000000</td>\n",
              "      <td>1.000000</td>\n",
              "      <td>0.000000</td>\n",
              "      <td>0.000000</td>\n",
              "      <td>50983.750000</td>\n",
              "      <td>0.000000</td>\n",
              "    </tr>\n",
              "    <tr>\n",
              "      <th>50%</th>\n",
              "      <td>652.000000</td>\n",
              "      <td>37.000000</td>\n",
              "      <td>5.000000</td>\n",
              "      <td>97198.540000</td>\n",
              "      <td>1.000000</td>\n",
              "      <td>1.000000</td>\n",
              "      <td>1.000000</td>\n",
              "      <td>100185.240000</td>\n",
              "      <td>0.000000</td>\n",
              "    </tr>\n",
              "    <tr>\n",
              "      <th>75%</th>\n",
              "      <td>718.000000</td>\n",
              "      <td>44.000000</td>\n",
              "      <td>7.000000</td>\n",
              "      <td>127647.840000</td>\n",
              "      <td>2.000000</td>\n",
              "      <td>1.000000</td>\n",
              "      <td>1.000000</td>\n",
              "      <td>149383.652500</td>\n",
              "      <td>0.000000</td>\n",
              "    </tr>\n",
              "    <tr>\n",
              "      <th>max</th>\n",
              "      <td>850.000000</td>\n",
              "      <td>92.000000</td>\n",
              "      <td>10.000000</td>\n",
              "      <td>250898.090000</td>\n",
              "      <td>4.000000</td>\n",
              "      <td>1.000000</td>\n",
              "      <td>1.000000</td>\n",
              "      <td>199992.480000</td>\n",
              "      <td>1.000000</td>\n",
              "    </tr>\n",
              "  </tbody>\n",
              "</table>\n",
              "</div>"
            ],
            "text/plain": [
              "        CreditScore           Age        Tenure        Balance  NumOfProducts  \\\n",
              "count  10002.000000  10001.000000  10002.000000   10002.000000   10002.000000   \n",
              "mean     650.555089     38.922311      5.012498   76491.112875       1.530194   \n",
              "std       96.661615     10.487200      2.891973   62393.474144       0.581639   \n",
              "min      350.000000     18.000000      0.000000       0.000000       1.000000   \n",
              "25%      584.000000     32.000000      3.000000       0.000000       1.000000   \n",
              "50%      652.000000     37.000000      5.000000   97198.540000       1.000000   \n",
              "75%      718.000000     44.000000      7.000000  127647.840000       2.000000   \n",
              "max      850.000000     92.000000     10.000000  250898.090000       4.000000   \n",
              "\n",
              "          HasCrCard  IsActiveMember  EstimatedSalary        Exited  \n",
              "count  10001.000000    10001.000000     10002.000000  10002.000000  \n",
              "mean       0.705529        0.514949    100083.331145      0.203759  \n",
              "std        0.455827        0.499801     57508.117802      0.402812  \n",
              "min        0.000000        0.000000        11.580000      0.000000  \n",
              "25%        0.000000        0.000000     50983.750000      0.000000  \n",
              "50%        1.000000        1.000000    100185.240000      0.000000  \n",
              "75%        1.000000        1.000000    149383.652500      0.000000  \n",
              "max        1.000000        1.000000    199992.480000      1.000000  "
            ]
          },
          "execution_count": 37,
          "metadata": {},
          "output_type": "execute_result"
        }
      ],
      "source": [
        "df.describe()"
      ]
    },
    {
      "cell_type": "code",
      "execution_count": 38,
      "metadata": {
        "execution": {
          "iopub.execute_input": "2022-03-24T14:53:49.693036Z",
          "iopub.status.busy": "2022-03-24T14:53:49.692309Z",
          "iopub.status.idle": "2022-03-24T14:53:49.707632Z",
          "shell.execute_reply": "2022-03-24T14:53:49.706907Z",
          "shell.execute_reply.started": "2022-03-24T14:53:49.693003Z"
        },
        "id": "S6mz05lX8CXU",
        "trusted": true
      },
      "outputs": [
        {
          "name": "stdout",
          "output_type": "stream",
          "text": [
            "<class 'pandas.core.frame.DataFrame'>\n",
            "RangeIndex: 10002 entries, 0 to 10001\n",
            "Data columns (total 11 columns):\n",
            " #   Column           Non-Null Count  Dtype  \n",
            "---  ------           --------------  -----  \n",
            " 0   CreditScore      10002 non-null  int64  \n",
            " 1   Geography        10001 non-null  object \n",
            " 2   Gender           10002 non-null  object \n",
            " 3   Age              10001 non-null  float64\n",
            " 4   Tenure           10002 non-null  int64  \n",
            " 5   Balance          10002 non-null  float64\n",
            " 6   NumOfProducts    10002 non-null  int64  \n",
            " 7   HasCrCard        10001 non-null  float64\n",
            " 8   IsActiveMember   10001 non-null  float64\n",
            " 9   EstimatedSalary  10002 non-null  float64\n",
            " 10  Exited           10002 non-null  int64  \n",
            "dtypes: float64(5), int64(4), object(2)\n",
            "memory usage: 859.7+ KB\n"
          ]
        }
      ],
      "source": [
        "df.info()"
      ]
    },
    {
      "cell_type": "code",
      "execution_count": 39,
      "metadata": {
        "execution": {
          "iopub.execute_input": "2022-03-24T14:53:49.709211Z",
          "iopub.status.busy": "2022-03-24T14:53:49.708819Z",
          "iopub.status.idle": "2022-03-24T14:53:49.717039Z",
          "shell.execute_reply": "2022-03-24T14:53:49.716191Z",
          "shell.execute_reply.started": "2022-03-24T14:53:49.709176Z"
        },
        "id": "XSy7Z5Zx8CXV",
        "trusted": true
      },
      "outputs": [
        {
          "data": {
            "text/plain": [
              "Geography\n",
              "France     5014\n",
              "Germany    2510\n",
              "Spain      2477\n",
              "Name: count, dtype: int64"
            ]
          },
          "execution_count": 39,
          "metadata": {},
          "output_type": "execute_result"
        }
      ],
      "source": [
        "df['Geography'].value_counts()"
      ]
    },
    {
      "cell_type": "code",
      "execution_count": 40,
      "metadata": {
        "execution": {
          "iopub.execute_input": "2022-03-24T14:53:49.718866Z",
          "iopub.status.busy": "2022-03-24T14:53:49.71834Z",
          "iopub.status.idle": "2022-03-24T14:53:49.918695Z",
          "shell.execute_reply": "2022-03-24T14:53:49.918022Z",
          "shell.execute_reply.started": "2022-03-24T14:53:49.71883Z"
        },
        "id": "H-0wQ79J8CXV",
        "trusted": true
      },
      "outputs": [
        {
          "data": {
            "text/plain": [
              "Text(0.5, 1.0, 'Comparsion betweeen Countries and Customers')"
            ]
          },
          "execution_count": 40,
          "metadata": {},
          "output_type": "execute_result"
        },
        {
          "data": {
            "image/png": "[encoded data removed]",
            "text/plain": [
              "<Figure size 1000x600 with 1 Axes>"
            ]
          },
          "metadata": {},
          "output_type": "display_data"
        }
      ],
      "source": [
        "plt.figure(figsize=(10, 6))\n",
        "df['Geography'].value_counts().plot(kind='bar')\n",
        "plt.xlabel('Counrties Names')\n",
        "plt.ylabel('Numbers of Customers')\n",
        "plt.title(\"Comparsion betweeen Countries and Customers\")"
      ]
    },
    {
      "cell_type": "code",
      "execution_count": 41,
      "metadata": {
        "execution": {
          "iopub.execute_input": "2022-03-24T14:53:49.920262Z",
          "iopub.status.busy": "2022-03-24T14:53:49.919828Z",
          "iopub.status.idle": "2022-03-24T14:53:50.210766Z",
          "shell.execute_reply": "2022-03-24T14:53:50.210082Z",
          "shell.execute_reply.started": "2022-03-24T14:53:49.920222Z"
        },
        "id": "6DYexZSX8CXV",
        "trusted": true
      },
      "outputs": [
        {
          "data": {
            "text/plain": [
              "Text(0.5, 1.0, 'Comparsion betweeen Exited and Customers')"
            ]
          },
          "execution_count": 41,
          "metadata": {},
          "output_type": "execute_result"
        },
        {
          "data": {
            "image/png": "[encoded data removed]",
            "text/plain": [
              "<Figure size 1000x600 with 1 Axes>"
            ]
          },
          "metadata": {},
          "output_type": "display_data"
        }
      ],
      "source": [
        "plt.figure(figsize=(10, 6))\n",
        "df['Exited'].value_counts().plot(kind='bar')\n",
        "plt.xlabel('Exited or Not Exited')\n",
        "plt.ylabel('Numbers of Customers')\n",
        "plt.title(\"Comparsion betweeen Exited and Customers\")"
      ]
    },
    {
      "cell_type": "code",
      "execution_count": 42,
      "metadata": {
        "execution": {
          "iopub.execute_input": "2022-03-24T14:53:50.214576Z",
          "iopub.status.busy": "2022-03-24T14:53:50.214037Z",
          "iopub.status.idle": "2022-03-24T14:53:50.396523Z",
          "shell.execute_reply": "2022-03-24T14:53:50.395865Z",
          "shell.execute_reply.started": "2022-03-24T14:53:50.214545Z"
        },
        "id": "iPbd--qA8CXV",
        "trusted": true
      },
      "outputs": [
        {
          "data": {
            "text/plain": [
              "Text(0.5, 1.0, 'Comparsion betweeen Genders')"
            ]
          },
          "execution_count": 42,
          "metadata": {},
          "output_type": "execute_result"
        },
        {
          "data": {
            "image/png": "[encoded data removed]",
            "text/plain": [
              "<Figure size 1000x600 with 1 Axes>"
            ]
          },
          "metadata": {},
          "output_type": "display_data"
        }
      ],
      "source": [
        "plt.figure(figsize=(10, 6))\n",
        "df['Gender'].value_counts().plot(kind='bar')\n",
        "plt.xlabel('Gender')\n",
        "plt.ylabel('Numbers of Customers')\n",
        "plt.title(\"Comparsion betweeen Genders\")"
      ]
    },
    {
      "cell_type": "markdown",
      "metadata": {
        "id": "HErlsyVD8CXV"
      },
      "source": [
        "# Encoding the Categorical data"
      ]
    },
    {
      "cell_type": "code",
      "execution_count": 43,
      "metadata": {
        "execution": {
          "iopub.execute_input": "2022-03-24T14:53:50.398015Z",
          "iopub.status.busy": "2022-03-24T14:53:50.397657Z",
          "iopub.status.idle": "2022-03-24T14:53:50.409503Z",
          "shell.execute_reply": "2022-03-24T14:53:50.408757Z",
          "shell.execute_reply.started": "2022-03-24T14:53:50.397979Z"
        },
        "id": "7KndTEhf8CXW",
        "trusted": true
      },
      "outputs": [],
      "source": [
        "df = pd.get_dummies(df, columns= ['Geography', 'Gender'], drop_first=False)\n"
      ]
    },
    {
      "cell_type": "code",
      "execution_count": 44,
      "metadata": {},
      "outputs": [
        {
          "data": {
            "text/html": [
              "<div>\n",
              "<style scoped>\n",
              "    .dataframe tbody tr th:only-of-type {\n",
              "        vertical-align: middle;\n",
              "    }\n",
              "\n",
              "    .dataframe tbody tr th {\n",
              "        vertical-align: top;\n",
              "    }\n",
              "\n",
              "    .dataframe thead th {\n",
              "        text-align: right;\n",
              "    }\n",
              "</style>\n",
              "<table border=\"1\" class=\"dataframe\">\n",
              "  <thead>\n",
              "    <tr style=\"text-align: right;\">\n",
              "      <th></th>\n",
              "      <th>CreditScore</th>\n",
              "      <th>Age</th>\n",
              "      <th>Tenure</th>\n",
              "      <th>Balance</th>\n",
              "      <th>NumOfProducts</th>\n",
              "      <th>HasCrCard</th>\n",
              "      <th>IsActiveMember</th>\n",
              "      <th>EstimatedSalary</th>\n",
              "      <th>Exited</th>\n",
              "      <th>Geography_France</th>\n",
              "      <th>Geography_Germany</th>\n",
              "      <th>Geography_Spain</th>\n",
              "      <th>Gender_Female</th>\n",
              "      <th>Gender_Male</th>\n",
              "    </tr>\n",
              "  </thead>\n",
              "  <tbody>\n",
              "    <tr>\n",
              "      <th>0</th>\n",
              "      <td>619</td>\n",
              "      <td>42.0</td>\n",
              "      <td>2</td>\n",
              "      <td>0.00</td>\n",
              "      <td>1</td>\n",
              "      <td>1.0</td>\n",
              "      <td>1.0</td>\n",
              "      <td>101348.88</td>\n",
              "      <td>1</td>\n",
              "      <td>True</td>\n",
              "      <td>False</td>\n",
              "      <td>False</td>\n",
              "      <td>True</td>\n",
              "      <td>False</td>\n",
              "    </tr>\n",
              "    <tr>\n",
              "      <th>1</th>\n",
              "      <td>608</td>\n",
              "      <td>41.0</td>\n",
              "      <td>1</td>\n",
              "      <td>83807.86</td>\n",
              "      <td>1</td>\n",
              "      <td>0.0</td>\n",
              "      <td>1.0</td>\n",
              "      <td>112542.58</td>\n",
              "      <td>0</td>\n",
              "      <td>False</td>\n",
              "      <td>False</td>\n",
              "      <td>True</td>\n",
              "      <td>True</td>\n",
              "      <td>False</td>\n",
              "    </tr>\n",
              "    <tr>\n",
              "      <th>2</th>\n",
              "      <td>502</td>\n",
              "      <td>42.0</td>\n",
              "      <td>8</td>\n",
              "      <td>159660.80</td>\n",
              "      <td>3</td>\n",
              "      <td>1.0</td>\n",
              "      <td>0.0</td>\n",
              "      <td>113931.57</td>\n",
              "      <td>1</td>\n",
              "      <td>True</td>\n",
              "      <td>False</td>\n",
              "      <td>False</td>\n",
              "      <td>True</td>\n",
              "      <td>False</td>\n",
              "    </tr>\n",
              "    <tr>\n",
              "      <th>3</th>\n",
              "      <td>699</td>\n",
              "      <td>39.0</td>\n",
              "      <td>1</td>\n",
              "      <td>0.00</td>\n",
              "      <td>2</td>\n",
              "      <td>0.0</td>\n",
              "      <td>0.0</td>\n",
              "      <td>93826.63</td>\n",
              "      <td>0</td>\n",
              "      <td>True</td>\n",
              "      <td>False</td>\n",
              "      <td>False</td>\n",
              "      <td>True</td>\n",
              "      <td>False</td>\n",
              "    </tr>\n",
              "    <tr>\n",
              "      <th>4</th>\n",
              "      <td>850</td>\n",
              "      <td>43.0</td>\n",
              "      <td>2</td>\n",
              "      <td>125510.82</td>\n",
              "      <td>1</td>\n",
              "      <td>NaN</td>\n",
              "      <td>1.0</td>\n",
              "      <td>79084.10</td>\n",
              "      <td>0</td>\n",
              "      <td>False</td>\n",
              "      <td>False</td>\n",
              "      <td>True</td>\n",
              "      <td>True</td>\n",
              "      <td>False</td>\n",
              "    </tr>\n",
              "    <tr>\n",
              "      <th>...</th>\n",
              "      <td>...</td>\n",
              "      <td>...</td>\n",
              "      <td>...</td>\n",
              "      <td>...</td>\n",
              "      <td>...</td>\n",
              "      <td>...</td>\n",
              "      <td>...</td>\n",
              "      <td>...</td>\n",
              "      <td>...</td>\n",
              "      <td>...</td>\n",
              "      <td>...</td>\n",
              "      <td>...</td>\n",
              "      <td>...</td>\n",
              "      <td>...</td>\n",
              "    </tr>\n",
              "    <tr>\n",
              "      <th>9997</th>\n",
              "      <td>709</td>\n",
              "      <td>36.0</td>\n",
              "      <td>7</td>\n",
              "      <td>0.00</td>\n",
              "      <td>1</td>\n",
              "      <td>0.0</td>\n",
              "      <td>1.0</td>\n",
              "      <td>42085.58</td>\n",
              "      <td>1</td>\n",
              "      <td>True</td>\n",
              "      <td>False</td>\n",
              "      <td>False</td>\n",
              "      <td>True</td>\n",
              "      <td>False</td>\n",
              "    </tr>\n",
              "    <tr>\n",
              "      <th>9998</th>\n",
              "      <td>772</td>\n",
              "      <td>42.0</td>\n",
              "      <td>3</td>\n",
              "      <td>75075.31</td>\n",
              "      <td>2</td>\n",
              "      <td>1.0</td>\n",
              "      <td>0.0</td>\n",
              "      <td>92888.52</td>\n",
              "      <td>1</td>\n",
              "      <td>False</td>\n",
              "      <td>True</td>\n",
              "      <td>False</td>\n",
              "      <td>False</td>\n",
              "      <td>True</td>\n",
              "    </tr>\n",
              "    <tr>\n",
              "      <th>9999</th>\n",
              "      <td>772</td>\n",
              "      <td>42.0</td>\n",
              "      <td>3</td>\n",
              "      <td>75075.31</td>\n",
              "      <td>2</td>\n",
              "      <td>1.0</td>\n",
              "      <td>0.0</td>\n",
              "      <td>92888.52</td>\n",
              "      <td>1</td>\n",
              "      <td>False</td>\n",
              "      <td>True</td>\n",
              "      <td>False</td>\n",
              "      <td>False</td>\n",
              "      <td>True</td>\n",
              "    </tr>\n",
              "    <tr>\n",
              "      <th>10000</th>\n",
              "      <td>792</td>\n",
              "      <td>28.0</td>\n",
              "      <td>4</td>\n",
              "      <td>130142.79</td>\n",
              "      <td>1</td>\n",
              "      <td>1.0</td>\n",
              "      <td>0.0</td>\n",
              "      <td>38190.78</td>\n",
              "      <td>0</td>\n",
              "      <td>True</td>\n",
              "      <td>False</td>\n",
              "      <td>False</td>\n",
              "      <td>True</td>\n",
              "      <td>False</td>\n",
              "    </tr>\n",
              "    <tr>\n",
              "      <th>10001</th>\n",
              "      <td>792</td>\n",
              "      <td>28.0</td>\n",
              "      <td>4</td>\n",
              "      <td>130142.79</td>\n",
              "      <td>1</td>\n",
              "      <td>1.0</td>\n",
              "      <td>0.0</td>\n",
              "      <td>38190.78</td>\n",
              "      <td>0</td>\n",
              "      <td>True</td>\n",
              "      <td>False</td>\n",
              "      <td>False</td>\n",
              "      <td>True</td>\n",
              "      <td>False</td>\n",
              "    </tr>\n",
              "  </tbody>\n",
              "</table>\n",
              "<p>10002 rows × 14 columns</p>\n",
              "</div>"
            ],
            "text/plain": [
              "       CreditScore   Age  Tenure    Balance  NumOfProducts  HasCrCard  \\\n",
              "0              619  42.0       2       0.00              1        1.0   \n",
              "1              608  41.0       1   83807.86              1        0.0   \n",
              "2              502  42.0       8  159660.80              3        1.0   \n",
              "3              699  39.0       1       0.00              2        0.0   \n",
              "4              850  43.0       2  125510.82              1        NaN   \n",
              "...            ...   ...     ...        ...            ...        ...   \n",
              "9997           709  36.0       7       0.00              1        0.0   \n",
              "9998           772  42.0       3   75075.31              2        1.0   \n",
              "9999           772  42.0       3   75075.31              2        1.0   \n",
              "10000          792  28.0       4  130142.79              1        1.0   \n",
              "10001          792  28.0       4  130142.79              1        1.0   \n",
              "\n",
              "       IsActiveMember  EstimatedSalary  Exited  Geography_France  \\\n",
              "0                 1.0        101348.88       1              True   \n",
              "1                 1.0        112542.58       0             False   \n",
              "2                 0.0        113931.57       1              True   \n",
              "3                 0.0         93826.63       0              True   \n",
              "4                 1.0         79084.10       0             False   \n",
              "...               ...              ...     ...               ...   \n",
              "9997              1.0         42085.58       1              True   \n",
              "9998              0.0         92888.52       1             False   \n",
              "9999              0.0         92888.52       1             False   \n",
              "10000             0.0         38190.78       0              True   \n",
              "10001             0.0         38190.78       0              True   \n",
              "\n",
              "       Geography_Germany  Geography_Spain  Gender_Female  Gender_Male  \n",
              "0                  False            False           True        False  \n",
              "1                  False             True           True        False  \n",
              "2                  False            False           True        False  \n",
              "3                  False            False           True        False  \n",
              "4                  False             True           True        False  \n",
              "...                  ...              ...            ...          ...  \n",
              "9997               False            False           True        False  \n",
              "9998                True            False          False         True  \n",
              "9999                True            False          False         True  \n",
              "10000              False            False           True        False  \n",
              "10001              False            False           True        False  \n",
              "\n",
              "[10002 rows x 14 columns]"
            ]
          },
          "execution_count": 44,
          "metadata": {},
          "output_type": "execute_result"
        }
      ],
      "source": [
        "df"
      ]
    },
    {
      "cell_type": "code",
      "execution_count": 45,
      "metadata": {
        "execution": {
          "iopub.execute_input": "2022-03-24T14:53:50.412201Z",
          "iopub.status.busy": "2022-03-24T14:53:50.412017Z",
          "iopub.status.idle": "2022-03-24T14:53:50.41796Z",
          "shell.execute_reply": "2022-03-24T14:53:50.417165Z",
          "shell.execute_reply.started": "2022-03-24T14:53:50.412179Z"
        },
        "id": "rQywsetD8CXW",
        "trusted": true
      },
      "outputs": [],
      "source": [
        "X=df.drop(columns=['Exited'])\n",
        "y=df['Exited']"
      ]
    },
    {
      "cell_type": "code",
      "execution_count": 46,
      "metadata": {
        "execution": {
          "iopub.execute_input": "2022-03-24T14:53:50.419942Z",
          "iopub.status.busy": "2022-03-24T14:53:50.419193Z",
          "iopub.status.idle": "2022-03-24T14:53:50.752258Z",
          "shell.execute_reply": "2022-03-24T14:53:50.751555Z",
          "shell.execute_reply.started": "2022-03-24T14:53:50.419905Z"
        },
        "id": "ymtI7QX58CXW",
        "trusted": true
      },
      "outputs": [],
      "source": [
        "from sklearn.model_selection import train_test_split"
      ]
    },
    {
      "cell_type": "code",
      "execution_count": 47,
      "metadata": {
        "execution": {
          "iopub.execute_input": "2022-03-24T14:53:50.753676Z",
          "iopub.status.busy": "2022-03-24T14:53:50.753375Z",
          "iopub.status.idle": "2022-03-24T14:53:50.764246Z",
          "shell.execute_reply": "2022-03-24T14:53:50.763449Z",
          "shell.execute_reply.started": "2022-03-24T14:53:50.753609Z"
        },
        "id": "Av03S2mC8CXW",
        "trusted": true
      },
      "outputs": [],
      "source": [
        "X_train, X_test, y_train, y_test = train_test_split(X,y, test_size= 0.25, random_state=3)"
      ]
    },
    {
      "cell_type": "code",
      "execution_count": 48,
      "metadata": {
        "execution": {
          "iopub.execute_input": "2022-03-24T14:53:50.766648Z",
          "iopub.status.busy": "2022-03-24T14:53:50.766106Z",
          "iopub.status.idle": "2022-03-24T14:53:50.771551Z",
          "shell.execute_reply": "2022-03-24T14:53:50.769856Z",
          "shell.execute_reply.started": "2022-03-24T14:53:50.766422Z"
        },
        "id": "K6DIMfvX8CXW",
        "trusted": true
      },
      "outputs": [],
      "source": [
        "from sklearn.preprocessing import StandardScaler"
      ]
    },
    {
      "cell_type": "code",
      "execution_count": 49,
      "metadata": {
        "execution": {
          "iopub.execute_input": "2022-03-24T14:53:50.773728Z",
          "iopub.status.busy": "2022-03-24T14:53:50.773366Z",
          "iopub.status.idle": "2022-03-24T14:53:50.788862Z",
          "shell.execute_reply": "2022-03-24T14:53:50.788243Z",
          "shell.execute_reply.started": "2022-03-24T14:53:50.773687Z"
        },
        "id": "mm9O2utc8CXX",
        "trusted": true
      },
      "outputs": [],
      "source": [
        "sc=StandardScaler()\n",
        "X_train=sc.fit_transform(X_train)\n",
        "X_test=sc.transform(X_test)"
      ]
    },
    {
      "cell_type": "code",
      "execution_count": 50,
      "metadata": {
        "execution": {
          "iopub.execute_input": "2022-03-24T14:53:50.790575Z",
          "iopub.status.busy": "2022-03-24T14:53:50.790123Z",
          "iopub.status.idle": "2022-03-24T14:53:52.311883Z",
          "shell.execute_reply": "2022-03-24T14:53:52.311118Z",
          "shell.execute_reply.started": "2022-03-24T14:53:50.79054Z"
        },
        "id": "FrLOHIdJ8CXX",
        "trusted": true
      },
      "outputs": [],
      "source": [
        "import tensorflow\n",
        "from tensorflow import keras\n",
        "from tensorflow.keras import Sequential # used for init our ANN model\n",
        "from tensorflow.keras.layers import Dense # used for different layer structure"
      ]
    },
    {
      "cell_type": "code",
      "execution_count": 51,
      "metadata": {
        "execution": {
          "iopub.execute_input": "2022-03-24T14:53:52.313574Z",
          "iopub.status.busy": "2022-03-24T14:53:52.313315Z",
          "iopub.status.idle": "2022-03-24T14:53:53.939279Z",
          "shell.execute_reply": "2022-03-24T14:53:53.937988Z",
          "shell.execute_reply.started": "2022-03-24T14:53:52.313538Z"
        },
        "id": "rLGZ-f9f8CXX",
        "trusted": true
      },
      "outputs": [],
      "source": [
        "# initializing the ANN model\n",
        "classifier=Sequential()"
      ]
    },
    {
      "cell_type": "code",
      "execution_count": 52,
      "metadata": {
        "execution": {
          "iopub.execute_input": "2022-03-24T14:53:53.941025Z",
          "iopub.status.busy": "2022-03-24T14:53:53.940766Z",
          "iopub.status.idle": "2022-03-24T14:53:53.97825Z",
          "shell.execute_reply": "2022-03-24T14:53:53.977595Z",
          "shell.execute_reply.started": "2022-03-24T14:53:53.940987Z"
        },
        "id": "Nyh_cAxK8CXY",
        "trusted": true
      },
      "outputs": [
        {
          "name": "stderr",
          "output_type": "stream",
          "text": [
            "c:\\Users\\Sajid Ali\\AppData\\Local\\Programs\\Python\\Python312\\Lib\\site-packages\\keras\\src\\layers\\core\\dense.py:87: UserWarning: Do not pass an `input_shape`/`input_dim` argument to a layer. When using Sequential models, prefer using an `Input(shape)` object as the first layer in the model instead.\n",
            "  super().__init__(activity_regularizer=activity_regularizer, **kwargs)\n"
          ]
        }
      ],
      "source": [
        "classifier.add(Dense(128,activation='relu',input_dim=13))\n",
        "classifier.add(Dense(64,activation='relu'))\n",
        "classifier.add(Dense(1,activation='sigmoid'))"
      ]
    },
    {
      "cell_type": "code",
      "execution_count": 53,
      "metadata": {
        "execution": {
          "iopub.execute_input": "2022-03-24T14:53:53.979925Z",
          "iopub.status.busy": "2022-03-24T14:53:53.979251Z",
          "iopub.status.idle": "2022-03-24T14:53:53.988055Z",
          "shell.execute_reply": "2022-03-24T14:53:53.987256Z",
          "shell.execute_reply.started": "2022-03-24T14:53:53.979888Z"
        },
        "id": "RCr436Qa8CXY",
        "trusted": true
      },
      "outputs": [
        {
          "data": {
            "text/html": [
              "<pre style=\"white-space:pre;overflow-x:auto;line-height:normal;font-family:Menlo,'DejaVu Sans Mono',consolas,'Courier New',monospace\"><span style=\"font-weight: bold\">Model: \"sequential_1\"</span>\n",
              "</pre>\n"
            ],
            "text/plain": [
              "\u001b[1mModel: \"sequential_1\"\u001b[0m\n"
            ]
          },
          "metadata": {},
          "output_type": "display_data"
        },
        {
          "data": {
            "text/html": [
              "<pre style=\"white-space:pre;overflow-x:auto;line-height:normal;font-family:Menlo,'DejaVu Sans Mono',consolas,'Courier New',monospace\">┏━━━━━━━━━━━━━━━━━━━━━━━━━━━━━━━━━┳━━━━━━━━━━━━━━━━━━━━━━━━┳━━━━━━━━━━━━━━━┓\n",
              "┃<span style=\"font-weight: bold\"> Layer (type)                    </span>┃<span style=\"font-weight: bold\"> Output Shape           </span>┃<span style=\"font-weight: bold\">       Param # </span>┃\n",
              "┡━━━━━━━━━━━━━━━━━━━━━━━━━━━━━━━━━╇━━━━━━━━━━━━━━━━━━━━━━━━╇━━━━━━━━━━━━━━━┩\n",
              "│ dense_3 (<span style=\"color: #0087ff; text-decoration-color: #0087ff\">Dense</span>)                 │ (<span style=\"color: #00d7ff; text-decoration-color: #00d7ff\">None</span>, <span style=\"color: #00af00; text-decoration-color: #00af00\">128</span>)            │         <span style=\"color: #00af00; text-decoration-color: #00af00\">1,792</span> │\n",
              "├─────────────────────────────────┼────────────────────────┼───────────────┤\n",
              "│ dense_4 (<span style=\"color: #0087ff; text-decoration-color: #0087ff\">Dense</span>)                 │ (<span style=\"color: #00d7ff; text-decoration-color: #00d7ff\">None</span>, <span style=\"color: #00af00; text-decoration-color: #00af00\">64</span>)             │         <span style=\"color: #00af00; text-decoration-color: #00af00\">8,256</span> │\n",
              "├─────────────────────────────────┼────────────────────────┼───────────────┤\n",
              "│ dense_5 (<span style=\"color: #0087ff; text-decoration-color: #0087ff\">Dense</span>)                 │ (<span style=\"color: #00d7ff; text-decoration-color: #00d7ff\">None</span>, <span style=\"color: #00af00; text-decoration-color: #00af00\">1</span>)              │            <span style=\"color: #00af00; text-decoration-color: #00af00\">65</span> │\n",
              "└─────────────────────────────────┴────────────────────────┴───────────────┘\n",
              "</pre>\n"
            ],
            "text/plain": [
              "┏━━━━━━━━━━━━━━━━━━━━━━━━━━━━━━━━━┳━━━━━━━━━━━━━━━━━━━━━━━━┳━━━━━━━━━━━━━━━┓\n",
              "┃\u001b[1m \u001b[0m\u001b[1mLayer (type)                   \u001b[0m\u001b[1m \u001b[0m┃\u001b[1m \u001b[0m\u001b[1mOutput Shape          \u001b[0m\u001b[1m \u001b[0m┃\u001b[1m \u001b[0m\u001b[1m      Param #\u001b[0m\u001b[1m \u001b[0m┃\n",
              "┡━━━━━━━━━━━━━━━━━━━━━━━━━━━━━━━━━╇━━━━━━━━━━━━━━━━━━━━━━━━╇━━━━━━━━━━━━━━━┩\n",
              "│ dense_3 (\u001b[38;5;33mDense\u001b[0m)                 │ (\u001b[38;5;45mNone\u001b[0m, \u001b[38;5;34m128\u001b[0m)            │         \u001b[38;5;34m1,792\u001b[0m │\n",
              "├─────────────────────────────────┼────────────────────────┼───────────────┤\n",
              "│ dense_4 (\u001b[38;5;33mDense\u001b[0m)                 │ (\u001b[38;5;45mNone\u001b[0m, \u001b[38;5;34m64\u001b[0m)             │         \u001b[38;5;34m8,256\u001b[0m │\n",
              "├─────────────────────────────────┼────────────────────────┼───────────────┤\n",
              "│ dense_5 (\u001b[38;5;33mDense\u001b[0m)                 │ (\u001b[38;5;45mNone\u001b[0m, \u001b[38;5;34m1\u001b[0m)              │            \u001b[38;5;34m65\u001b[0m │\n",
              "└─────────────────────────────────┴────────────────────────┴───────────────┘\n"
            ]
          },
          "metadata": {},
          "output_type": "display_data"
        },
        {
          "data": {
            "text/html": [
              "<pre style=\"white-space:pre;overflow-x:auto;line-height:normal;font-family:Menlo,'DejaVu Sans Mono',consolas,'Courier New',monospace\"><span style=\"font-weight: bold\"> Total params: </span><span style=\"color: #00af00; text-decoration-color: #00af00\">10,113</span> (39.50 KB)\n",
              "</pre>\n"
            ],
            "text/plain": [
              "\u001b[1m Total params: \u001b[0m\u001b[38;5;34m10,113\u001b[0m (39.50 KB)\n"
            ]
          },
          "metadata": {},
          "output_type": "display_data"
        },
        {
          "data": {
            "text/html": [
              "<pre style=\"white-space:pre;overflow-x:auto;line-height:normal;font-family:Menlo,'DejaVu Sans Mono',consolas,'Courier New',monospace\"><span style=\"font-weight: bold\"> Trainable params: </span><span style=\"color: #00af00; text-decoration-color: #00af00\">10,113</span> (39.50 KB)\n",
              "</pre>\n"
            ],
            "text/plain": [
              "\u001b[1m Trainable params: \u001b[0m\u001b[38;5;34m10,113\u001b[0m (39.50 KB)\n"
            ]
          },
          "metadata": {},
          "output_type": "display_data"
        },
        {
          "data": {
            "text/html": [
              "<pre style=\"white-space:pre;overflow-x:auto;line-height:normal;font-family:Menlo,'DejaVu Sans Mono',consolas,'Courier New',monospace\"><span style=\"font-weight: bold\"> Non-trainable params: </span><span style=\"color: #00af00; text-decoration-color: #00af00\">0</span> (0.00 B)\n",
              "</pre>\n"
            ],
            "text/plain": [
              "\u001b[1m Non-trainable params: \u001b[0m\u001b[38;5;34m0\u001b[0m (0.00 B)\n"
            ]
          },
          "metadata": {},
          "output_type": "display_data"
        }
      ],
      "source": [
        "classifier.summary()"
      ]
    },
    {
      "cell_type": "code",
      "execution_count": 54,
      "metadata": {
        "execution": {
          "iopub.execute_input": "2022-03-24T14:53:53.989764Z",
          "iopub.status.busy": "2022-03-24T14:53:53.989426Z",
          "iopub.status.idle": "2022-03-24T14:53:54.001844Z",
          "shell.execute_reply": "2022-03-24T14:53:54.001007Z",
          "shell.execute_reply.started": "2022-03-24T14:53:53.989727Z"
        },
        "id": "L15ASNGh8CXY",
        "trusted": true
      },
      "outputs": [],
      "source": [
        "classifier.compile(optimizer='Adam',loss='binary_crossentropy',metrics=['accuracy'])"
      ]
    },
    {
      "cell_type": "code",
      "execution_count": 56,
      "metadata": {},
      "outputs": [],
      "source": [
        "from imblearn.over_sampling import RandomOverSampler, SMOTE\n",
        "\n",
        "rus = RandomOverSampler(random_state=42)\n",
        "X_train_rus, y_train_rus = rus.fit_resample(X_train, y_train)"
      ]
    },
    {
      "cell_type": "code",
      "execution_count": 57,
      "metadata": {
        "execution": {
          "iopub.execute_input": "2022-03-24T14:53:54.003809Z",
          "iopub.status.busy": "2022-03-24T14:53:54.003325Z",
          "iopub.status.idle": "2022-03-24T14:56:35.470483Z",
          "shell.execute_reply": "2022-03-24T14:56:35.469783Z",
          "shell.execute_reply.started": "2022-03-24T14:53:54.003628Z"
        },
        "id": "rNSualZ38CXY",
        "trusted": true
      },
      "outputs": [
        {
          "name": "stdout",
          "output_type": "stream",
          "text": [
            "Epoch 1/50\n",
            "\u001b[1m280/280\u001b[0m \u001b[32m━━━━━━━━━━━━━━━━━━━━\u001b[0m\u001b[37m\u001b[0m \u001b[1m2s\u001b[0m 2ms/step - accuracy: 0.6642 - loss: 0.6391 - val_accuracy: 0.0000e+00 - val_loss: 1.0736\n",
            "Epoch 2/50\n",
            "\u001b[1m280/280\u001b[0m \u001b[32m━━━━━━━━━━━━━━━━━━━━\u001b[0m\u001b[37m\u001b[0m \u001b[1m0s\u001b[0m 2ms/step - accuracy: 0.6656 - loss: 0.6375 - val_accuracy: 0.0000e+00 - val_loss: 1.0992\n",
            "Epoch 3/50\n",
            "\u001b[1m280/280\u001b[0m \u001b[32m━━━━━━━━━━━━━━━━━━━━\u001b[0m\u001b[37m\u001b[0m \u001b[1m0s\u001b[0m 2ms/step - accuracy: 0.6612 - loss: 0.6405 - val_accuracy: 0.0000e+00 - val_loss: 1.0907\n",
            "Epoch 4/50\n",
            "\u001b[1m280/280\u001b[0m \u001b[32m━━━━━━━━━━━━━━━━━━━━\u001b[0m\u001b[37m\u001b[0m \u001b[1m1s\u001b[0m 2ms/step - accuracy: 0.6702 - loss: 0.6343 - val_accuracy: 0.0000e+00 - val_loss: 1.0859\n",
            "Epoch 5/50\n",
            "\u001b[1m280/280\u001b[0m \u001b[32m━━━━━━━━━━━━━━━━━━━━\u001b[0m\u001b[37m\u001b[0m \u001b[1m0s\u001b[0m 2ms/step - accuracy: 0.6603 - loss: 0.6410 - val_accuracy: 0.0000e+00 - val_loss: 1.1066\n",
            "Epoch 6/50\n",
            "\u001b[1m280/280\u001b[0m \u001b[32m━━━━━━━━━━━━━━━━━━━━\u001b[0m\u001b[37m\u001b[0m \u001b[1m1s\u001b[0m 2ms/step - accuracy: 0.6689 - loss: 0.6352 - val_accuracy: 0.0000e+00 - val_loss: 1.0688\n",
            "Epoch 7/50\n",
            "\u001b[1m280/280\u001b[0m \u001b[32m━━━━━━━━━━━━━━━━━━━━\u001b[0m\u001b[37m\u001b[0m \u001b[1m0s\u001b[0m 2ms/step - accuracy: 0.6782 - loss: 0.6289 - val_accuracy: 0.0000e+00 - val_loss: 1.0644\n",
            "Epoch 8/50\n",
            "\u001b[1m280/280\u001b[0m \u001b[32m━━━━━━━━━━━━━━━━━━━━\u001b[0m\u001b[37m\u001b[0m \u001b[1m0s\u001b[0m 2ms/step - accuracy: 0.6607 - loss: 0.6408 - val_accuracy: 0.0000e+00 - val_loss: 1.1464\n",
            "Epoch 9/50\n",
            "\u001b[1m280/280\u001b[0m \u001b[32m━━━━━━━━━━━━━━━━━━━━\u001b[0m\u001b[37m\u001b[0m \u001b[1m0s\u001b[0m 2ms/step - accuracy: 0.6614 - loss: 0.6405 - val_accuracy: 0.0000e+00 - val_loss: 1.1490\n",
            "Epoch 10/50\n",
            "\u001b[1m280/280\u001b[0m \u001b[32m━━━━━━━━━━━━━━━━━━━━\u001b[0m\u001b[37m\u001b[0m \u001b[1m0s\u001b[0m 2ms/step - accuracy: 0.6701 - loss: 0.6343 - val_accuracy: 0.0000e+00 - val_loss: 1.0996\n",
            "Epoch 11/50\n",
            "\u001b[1m280/280\u001b[0m \u001b[32m━━━━━━━━━━━━━━━━━━━━\u001b[0m\u001b[37m\u001b[0m \u001b[1m0s\u001b[0m 2ms/step - accuracy: 0.6646 - loss: 0.6380 - val_accuracy: 0.0000e+00 - val_loss: 1.0994\n",
            "Epoch 12/50\n",
            "\u001b[1m280/280\u001b[0m \u001b[32m━━━━━━━━━━━━━━━━━━━━\u001b[0m\u001b[37m\u001b[0m \u001b[1m1s\u001b[0m 2ms/step - accuracy: 0.6630 - loss: 0.6393 - val_accuracy: 0.0000e+00 - val_loss: 1.1171\n",
            "Epoch 13/50\n",
            "\u001b[1m280/280\u001b[0m \u001b[32m━━━━━━━━━━━━━━━━━━━━\u001b[0m\u001b[37m\u001b[0m \u001b[1m1s\u001b[0m 2ms/step - accuracy: 0.6690 - loss: 0.6353 - val_accuracy: 0.0000e+00 - val_loss: 1.0846\n",
            "Epoch 14/50\n",
            "\u001b[1m280/280\u001b[0m \u001b[32m━━━━━━━━━━━━━━━━━━━━\u001b[0m\u001b[37m\u001b[0m \u001b[1m0s\u001b[0m 2ms/step - accuracy: 0.6693 - loss: 0.6349 - val_accuracy: 0.0000e+00 - val_loss: 1.0895\n",
            "Epoch 15/50\n",
            "\u001b[1m280/280\u001b[0m \u001b[32m━━━━━━━━━━━━━━━━━━━━\u001b[0m\u001b[37m\u001b[0m \u001b[1m1s\u001b[0m 2ms/step - accuracy: 0.6547 - loss: 0.6447 - val_accuracy: 0.0000e+00 - val_loss: 1.1714\n",
            "Epoch 16/50\n",
            "\u001b[1m280/280\u001b[0m \u001b[32m━━━━━━━━━━━━━━━━━━━━\u001b[0m\u001b[37m\u001b[0m \u001b[1m0s\u001b[0m 2ms/step - accuracy: 0.6725 - loss: 0.6330 - val_accuracy: 0.0000e+00 - val_loss: 1.0571\n",
            "Epoch 17/50\n",
            "\u001b[1m280/280\u001b[0m \u001b[32m━━━━━━━━━━━━━━━━━━━━\u001b[0m\u001b[37m\u001b[0m \u001b[1m1s\u001b[0m 2ms/step - accuracy: 0.6698 - loss: 0.6348 - val_accuracy: 0.0000e+00 - val_loss: 1.0633\n",
            "Epoch 18/50\n",
            "\u001b[1m280/280\u001b[0m \u001b[32m━━━━━━━━━━━━━━━━━━━━\u001b[0m\u001b[37m\u001b[0m \u001b[1m1s\u001b[0m 2ms/step - accuracy: 0.6613 - loss: 0.6408 - val_accuracy: 0.0000e+00 - val_loss: 1.1213\n",
            "Epoch 19/50\n",
            "\u001b[1m280/280\u001b[0m \u001b[32m━━━━━━━━━━━━━━━━━━━━\u001b[0m\u001b[37m\u001b[0m \u001b[1m0s\u001b[0m 2ms/step - accuracy: 0.6679 - loss: 0.6358 - val_accuracy: 0.0000e+00 - val_loss: 1.0957\n",
            "Epoch 20/50\n",
            "\u001b[1m280/280\u001b[0m \u001b[32m━━━━━━━━━━━━━━━━━━━━\u001b[0m\u001b[37m\u001b[0m \u001b[1m0s\u001b[0m 2ms/step - accuracy: 0.6651 - loss: 0.6378 - val_accuracy: 0.0000e+00 - val_loss: 1.0793\n",
            "Epoch 21/50\n",
            "\u001b[1m280/280\u001b[0m \u001b[32m━━━━━━━━━━━━━━━━━━━━\u001b[0m\u001b[37m\u001b[0m \u001b[1m1s\u001b[0m 2ms/step - accuracy: 0.6736 - loss: 0.6318 - val_accuracy: 0.0000e+00 - val_loss: 1.0398\n",
            "Epoch 22/50\n",
            "\u001b[1m280/280\u001b[0m \u001b[32m━━━━━━━━━━━━━━━━━━━━\u001b[0m\u001b[37m\u001b[0m \u001b[1m1s\u001b[0m 2ms/step - accuracy: 0.6639 - loss: 0.6387 - val_accuracy: 0.0000e+00 - val_loss: 1.1051\n",
            "Epoch 23/50\n",
            "\u001b[1m280/280\u001b[0m \u001b[32m━━━━━━━━━━━━━━━━━━━━\u001b[0m\u001b[37m\u001b[0m \u001b[1m1s\u001b[0m 2ms/step - accuracy: 0.6652 - loss: 0.6379 - val_accuracy: 0.0000e+00 - val_loss: 1.1204\n",
            "Epoch 24/50\n",
            "\u001b[1m280/280\u001b[0m \u001b[32m━━━━━━━━━━━━━━━━━━━━\u001b[0m\u001b[37m\u001b[0m \u001b[1m1s\u001b[0m 2ms/step - accuracy: 0.6663 - loss: 0.6371 - val_accuracy: 0.0000e+00 - val_loss: 1.1028\n",
            "Epoch 25/50\n",
            "\u001b[1m280/280\u001b[0m \u001b[32m━━━━━━━━━━━━━━━━━━━━\u001b[0m\u001b[37m\u001b[0m \u001b[1m1s\u001b[0m 2ms/step - accuracy: 0.6711 - loss: 0.6337 - val_accuracy: 0.0000e+00 - val_loss: 1.0764\n",
            "Epoch 26/50\n",
            "\u001b[1m280/280\u001b[0m \u001b[32m━━━━━━━━━━━━━━━━━━━━\u001b[0m\u001b[37m\u001b[0m \u001b[1m1s\u001b[0m 2ms/step - accuracy: 0.6658 - loss: 0.6372 - val_accuracy: 0.0000e+00 - val_loss: 1.0773\n",
            "Epoch 27/50\n",
            "\u001b[1m280/280\u001b[0m \u001b[32m━━━━━━━━━━━━━━━━━━━━\u001b[0m\u001b[37m\u001b[0m \u001b[1m1s\u001b[0m 2ms/step - accuracy: 0.6641 - loss: 0.6385 - val_accuracy: 0.0000e+00 - val_loss: 1.0975\n",
            "Epoch 28/50\n",
            "\u001b[1m280/280\u001b[0m \u001b[32m━━━━━━━━━━━━━━━━━━━━\u001b[0m\u001b[37m\u001b[0m \u001b[1m1s\u001b[0m 2ms/step - accuracy: 0.6724 - loss: 0.6326 - val_accuracy: 0.0000e+00 - val_loss: 1.0750\n",
            "Epoch 29/50\n",
            "\u001b[1m280/280\u001b[0m \u001b[32m━━━━━━━━━━━━━━━━━━━━\u001b[0m\u001b[37m\u001b[0m \u001b[1m1s\u001b[0m 2ms/step - accuracy: 0.6612 - loss: 0.6404 - val_accuracy: 0.0000e+00 - val_loss: 1.1099\n",
            "Epoch 30/50\n",
            "\u001b[1m280/280\u001b[0m \u001b[32m━━━━━━━━━━━━━━━━━━━━\u001b[0m\u001b[37m\u001b[0m \u001b[1m0s\u001b[0m 2ms/step - accuracy: 0.6592 - loss: 0.6419 - val_accuracy: 0.0000e+00 - val_loss: 1.1171\n",
            "Epoch 31/50\n",
            "\u001b[1m280/280\u001b[0m \u001b[32m━━━━━━━━━━━━━━━━━━━━\u001b[0m\u001b[37m\u001b[0m \u001b[1m1s\u001b[0m 2ms/step - accuracy: 0.6643 - loss: 0.6384 - val_accuracy: 0.0000e+00 - val_loss: 1.0867\n",
            "Epoch 32/50\n",
            "\u001b[1m280/280\u001b[0m \u001b[32m━━━━━━━━━━━━━━━━━━━━\u001b[0m\u001b[37m\u001b[0m \u001b[1m0s\u001b[0m 2ms/step - accuracy: 0.6712 - loss: 0.6334 - val_accuracy: 0.0000e+00 - val_loss: 1.0614\n",
            "Epoch 33/50\n",
            "\u001b[1m280/280\u001b[0m \u001b[32m━━━━━━━━━━━━━━━━━━━━\u001b[0m\u001b[37m\u001b[0m \u001b[1m0s\u001b[0m 2ms/step - accuracy: 0.6678 - loss: 0.6361 - val_accuracy: 0.0000e+00 - val_loss: 1.0661\n",
            "Epoch 34/50\n",
            "\u001b[1m280/280\u001b[0m \u001b[32m━━━━━━━━━━━━━━━━━━━━\u001b[0m\u001b[37m\u001b[0m \u001b[1m0s\u001b[0m 2ms/step - accuracy: 0.6690 - loss: 0.6354 - val_accuracy: 0.0000e+00 - val_loss: 1.1349\n",
            "Epoch 35/50\n",
            "\u001b[1m280/280\u001b[0m \u001b[32m━━━━━━━━━━━━━━━━━━━━\u001b[0m\u001b[37m\u001b[0m \u001b[1m1s\u001b[0m 2ms/step - accuracy: 0.6722 - loss: 0.6327 - val_accuracy: 0.0000e+00 - val_loss: 1.0833\n",
            "Epoch 36/50\n",
            "\u001b[1m280/280\u001b[0m \u001b[32m━━━━━━━━━━━━━━━━━━━━\u001b[0m\u001b[37m\u001b[0m \u001b[1m1s\u001b[0m 2ms/step - accuracy: 0.6679 - loss: 0.6360 - val_accuracy: 0.0000e+00 - val_loss: 1.0935\n",
            "Epoch 37/50\n",
            "\u001b[1m280/280\u001b[0m \u001b[32m━━━━━━━━━━━━━━━━━━━━\u001b[0m\u001b[37m\u001b[0m \u001b[1m1s\u001b[0m 2ms/step - accuracy: 0.6686 - loss: 0.6355 - val_accuracy: 0.0000e+00 - val_loss: 1.1051\n",
            "Epoch 38/50\n",
            "\u001b[1m280/280\u001b[0m \u001b[32m━━━━━━━━━━━━━━━━━━━━\u001b[0m\u001b[37m\u001b[0m \u001b[1m0s\u001b[0m 2ms/step - accuracy: 0.6628 - loss: 0.6393 - val_accuracy: 0.0000e+00 - val_loss: 1.1241\n",
            "Epoch 39/50\n",
            "\u001b[1m280/280\u001b[0m \u001b[32m━━━━━━━━━━━━━━━━━━━━\u001b[0m\u001b[37m\u001b[0m \u001b[1m1s\u001b[0m 2ms/step - accuracy: 0.6657 - loss: 0.6374 - val_accuracy: 0.0000e+00 - val_loss: 1.1051\n",
            "Epoch 40/50\n",
            "\u001b[1m280/280\u001b[0m \u001b[32m━━━━━━━━━━━━━━━━━━━━\u001b[0m\u001b[37m\u001b[0m \u001b[1m1s\u001b[0m 2ms/step - accuracy: 0.6763 - loss: 0.6299 - val_accuracy: 0.0000e+00 - val_loss: 1.0893\n",
            "Epoch 41/50\n",
            "\u001b[1m280/280\u001b[0m \u001b[32m━━━━━━━━━━━━━━━━━━━━\u001b[0m\u001b[37m\u001b[0m \u001b[1m1s\u001b[0m 3ms/step - accuracy: 0.6618 - loss: 0.6401 - val_accuracy: 0.0000e+00 - val_loss: 1.1425\n",
            "Epoch 42/50\n",
            "\u001b[1m280/280\u001b[0m \u001b[32m━━━━━━━━━━━━━━━━━━━━\u001b[0m\u001b[37m\u001b[0m \u001b[1m1s\u001b[0m 2ms/step - accuracy: 0.6698 - loss: 0.6345 - val_accuracy: 0.0000e+00 - val_loss: 1.0953\n",
            "Epoch 43/50\n",
            "\u001b[1m280/280\u001b[0m \u001b[32m━━━━━━━━━━━━━━━━━━━━\u001b[0m\u001b[37m\u001b[0m \u001b[1m1s\u001b[0m 2ms/step - accuracy: 0.6659 - loss: 0.6373 - val_accuracy: 0.0000e+00 - val_loss: 1.0651\n",
            "Epoch 44/50\n",
            "\u001b[1m280/280\u001b[0m \u001b[32m━━━━━━━━━━━━━━━━━━━━\u001b[0m\u001b[37m\u001b[0m \u001b[1m1s\u001b[0m 2ms/step - accuracy: 0.6766 - loss: 0.6302 - val_accuracy: 0.0000e+00 - val_loss: 1.0709\n",
            "Epoch 45/50\n",
            "\u001b[1m280/280\u001b[0m \u001b[32m━━━━━━━━━━━━━━━━━━━━\u001b[0m\u001b[37m\u001b[0m \u001b[1m1s\u001b[0m 2ms/step - accuracy: 0.6644 - loss: 0.6384 - val_accuracy: 0.0000e+00 - val_loss: 1.1056\n",
            "Epoch 46/50\n",
            "\u001b[1m280/280\u001b[0m \u001b[32m━━━━━━━━━━━━━━━━━━━━\u001b[0m\u001b[37m\u001b[0m \u001b[1m1s\u001b[0m 2ms/step - accuracy: 0.6588 - loss: 0.6422 - val_accuracy: 0.0000e+00 - val_loss: 1.1023\n",
            "Epoch 47/50\n",
            "\u001b[1m280/280\u001b[0m \u001b[32m━━━━━━━━━━━━━━━━━━━━\u001b[0m\u001b[37m\u001b[0m \u001b[1m1s\u001b[0m 2ms/step - accuracy: 0.6685 - loss: 0.6354 - val_accuracy: 0.0000e+00 - val_loss: 1.0772\n",
            "Epoch 48/50\n",
            "\u001b[1m280/280\u001b[0m \u001b[32m━━━━━━━━━━━━━━━━━━━━\u001b[0m\u001b[37m\u001b[0m \u001b[1m1s\u001b[0m 2ms/step - accuracy: 0.6629 - loss: 0.6393 - val_accuracy: 0.0000e+00 - val_loss: 1.0805\n",
            "Epoch 49/50\n",
            "\u001b[1m280/280\u001b[0m \u001b[32m━━━━━━━━━━━━━━━━━━━━\u001b[0m\u001b[37m\u001b[0m \u001b[1m1s\u001b[0m 2ms/step - accuracy: 0.6736 - loss: 0.6320 - val_accuracy: 0.0000e+00 - val_loss: 1.0533\n",
            "Epoch 50/50\n",
            "\u001b[1m280/280\u001b[0m \u001b[32m━━━━━━━━━━━━━━━━━━━━\u001b[0m\u001b[37m\u001b[0m \u001b[1m1s\u001b[0m 2ms/step - accuracy: 0.6692 - loss: 0.6351 - val_accuracy: 0.0000e+00 - val_loss: 1.1058\n"
          ]
        }
      ],
      "source": [
        "history = classifier.fit(X_train_rus,y_train_rus,epochs=50,verbose=1,validation_split=0.25)"
      ]
    },
    {
      "cell_type": "code",
      "execution_count": 58,
      "metadata": {
        "execution": {
          "iopub.execute_input": "2022-03-24T14:56:35.47232Z",
          "iopub.status.busy": "2022-03-24T14:56:35.471976Z",
          "iopub.status.idle": "2022-03-24T14:56:35.62862Z",
          "shell.execute_reply": "2022-03-24T14:56:35.627917Z",
          "shell.execute_reply.started": "2022-03-24T14:56:35.472281Z"
        },
        "id": "-VXQhhBF8CXY",
        "trusted": true
      },
      "outputs": [
        {
          "name": "stdout",
          "output_type": "stream",
          "text": [
            "\u001b[1m79/79\u001b[0m \u001b[32m━━━━━━━━━━━━━━━━━━━━\u001b[0m\u001b[37m\u001b[0m \u001b[1m0s\u001b[0m 1ms/step\n"
          ]
        },
        {
          "data": {
            "text/plain": [
              "array([[False],\n",
              "       [False],\n",
              "       [False],\n",
              "       ...,\n",
              "       [False],\n",
              "       [False],\n",
              "       [False]])"
            ]
          },
          "execution_count": 58,
          "metadata": {},
          "output_type": "execute_result"
        }
      ],
      "source": [
        "# predicting the test set result\n",
        "y_pred = classifier.predict(X_test)\n",
        "y_pred = (y_pred>0.5)\n",
        "y_pred\n"
      ]
    },
    {
      "cell_type": "code",
      "execution_count": 59,
      "metadata": {
        "execution": {
          "iopub.execute_input": "2022-03-24T14:56:35.630168Z",
          "iopub.status.busy": "2022-03-24T14:56:35.629927Z",
          "iopub.status.idle": "2022-03-24T14:56:35.63917Z",
          "shell.execute_reply": "2022-03-24T14:56:35.638341Z",
          "shell.execute_reply.started": "2022-03-24T14:56:35.630134Z"
        },
        "id": "wcAoHYnx8CXk",
        "trusted": true
      },
      "outputs": [
        {
          "name": "stdout",
          "output_type": "stream",
          "text": [
            "Classification Report:\n",
            "              precision    recall  f1-score   support\n",
            "\n",
            "           0       0.80      1.00      0.89      1994\n",
            "           1       0.00      0.00      0.00       507\n",
            "\n",
            "    accuracy                           0.80      2501\n",
            "   macro avg       0.40      0.50      0.44      2501\n",
            "weighted avg       0.64      0.80      0.71      2501\n",
            "\n"
          ]
        },
        {
          "name": "stderr",
          "output_type": "stream",
          "text": [
            "c:\\Users\\Sajid Ali\\AppData\\Local\\Programs\\Python\\Python312\\Lib\\site-packages\\sklearn\\metrics\\_classification.py:1509: UndefinedMetricWarning: Precision is ill-defined and being set to 0.0 in labels with no predicted samples. Use `zero_division` parameter to control this behavior.\n",
            "  _warn_prf(average, modifier, f\"{metric.capitalize()} is\", len(result))\n",
            "c:\\Users\\Sajid Ali\\AppData\\Local\\Programs\\Python\\Python312\\Lib\\site-packages\\sklearn\\metrics\\_classification.py:1509: UndefinedMetricWarning: Precision is ill-defined and being set to 0.0 in labels with no predicted samples. Use `zero_division` parameter to control this behavior.\n",
            "  _warn_prf(average, modifier, f\"{metric.capitalize()} is\", len(result))\n",
            "c:\\Users\\Sajid Ali\\AppData\\Local\\Programs\\Python\\Python312\\Lib\\site-packages\\sklearn\\metrics\\_classification.py:1509: UndefinedMetricWarning: Precision is ill-defined and being set to 0.0 in labels with no predicted samples. Use `zero_division` parameter to control this behavior.\n",
            "  _warn_prf(average, modifier, f\"{metric.capitalize()} is\", len(result))\n"
          ]
        },
        {
          "data": {
            "image/png": "[encoded data removed]",
            "text/plain": [
              "<Figure size 640x480 with 2 Axes>"
            ]
          },
          "metadata": {},
          "output_type": "display_data"
        }
      ],
      "source": [
        "# Confusion Metric\n",
        "from sklearn.metrics import confusion_matrix, ConfusionMatrixDisplay, classification_report\n",
        "\n",
        "class_report = classification_report(y_test, y_pred)\n",
        "print(\"Classification Report:\")\n",
        "print(class_report)\n",
        "\n",
        "confusion_metric = confusion_matrix(y_test, y_pred)\n",
        "disp = ConfusionMatrixDisplay(confusion_matrix=confusion_metric)\n",
        "disp.plot(cmap=plt.cm.Blues)\n",
        "plt.title('Confusion Matrix')\n",
        "plt.show()"
      ]
    },
    {
      "cell_type": "code",
      "execution_count": 29,
      "metadata": {
        "execution": {
          "iopub.execute_input": "2022-03-24T14:56:35.641026Z",
          "iopub.status.busy": "2022-03-24T14:56:35.640567Z",
          "iopub.status.idle": "2022-03-24T14:56:35.647919Z",
          "shell.execute_reply": "2022-03-24T14:56:35.647084Z",
          "shell.execute_reply.started": "2022-03-24T14:56:35.640984Z"
        },
        "id": "iXv-JRA88CXk",
        "trusted": true
      },
      "outputs": [
        {
          "data": {
            "text/plain": [
              "0.797281087564974"
            ]
          },
          "execution_count": 29,
          "metadata": {},
          "output_type": "execute_result"
        }
      ],
      "source": [
        "from sklearn.metrics import accuracy_score\n",
        "accuracy_score(y_test,y_pred)"
      ]
    },
    {
      "cell_type": "code",
      "execution_count": 30,
      "metadata": {
        "execution": {
          "iopub.execute_input": "2022-03-24T14:56:35.649818Z",
          "iopub.status.busy": "2022-03-24T14:56:35.649327Z",
          "iopub.status.idle": "2022-03-24T14:56:35.842393Z",
          "shell.execute_reply": "2022-03-24T14:56:35.841762Z",
          "shell.execute_reply.started": "2022-03-24T14:56:35.649779Z"
        },
        "id": "UKVCekX18CXk",
        "trusted": true
      },
      "outputs": [
        {
          "data": {
            "text/plain": [
              "[<matplotlib.lines.Line2D at 0x1ba0f568140>]"
            ]
          },
          "execution_count": 30,
          "metadata": {},
          "output_type": "execute_result"
        },
        {
          "data": {
            "image/png": "[encoded data removed]",
            "text/plain": [
              "<Figure size 640x480 with 1 Axes>"
            ]
          },
          "metadata": {},
          "output_type": "display_data"
        }
      ],
      "source": [
        "plt.plot(history.history['loss'])\n",
        "plt.plot(history.history['val_loss'])"
      ]
    },
    {
      "cell_type": "code",
      "execution_count": 31,
      "metadata": {
        "execution": {
          "iopub.execute_input": "2022-03-24T14:56:35.843922Z",
          "iopub.status.busy": "2022-03-24T14:56:35.84368Z",
          "iopub.status.idle": "2022-03-24T14:56:36.020985Z",
          "shell.execute_reply": "2022-03-24T14:56:36.020292Z",
          "shell.execute_reply.started": "2022-03-24T14:56:35.843879Z"
        },
        "id": "COHfsQi48CXk",
        "trusted": true
      },
      "outputs": [
        {
          "data": {
            "text/plain": [
              "[<matplotlib.lines.Line2D at 0x1ba0f5c4950>]"
            ]
          },
          "execution_count": 31,
          "metadata": {},
          "output_type": "execute_result"
        },
        {
          "data": {
            "image/png": "[encoded data removed]",
            "text/plain": [
              "<Figure size 640x480 with 1 Axes>"
            ]
          },
          "metadata": {},
          "output_type": "display_data"
        }
      ],
      "source": [
        "plt.plot(history.history['accuracy'])\n",
        "plt.plot(history.history['val_accuracy'])"
      ]
    }
  ],
  "metadata": {
    "colab": {
      "include_colab_link": true,
      "provenance": []
    },
    "kaggle": {
      "accelerator": "gpu",
      "dataSources": [
        {
          "datasetId": 2008274,
          "sourceId": 3322096,
          "sourceType": "datasetVersion"
        }
      ],
      "dockerImageVersionId": 30177,
      "isGpuEnabled": true,
      "isInternetEnabled": true,
      "language": "python",
      "sourceType": "notebook"
    },
    "kernelspec": {
      "display_name": "Python 3",
      "language": "python",
      "name": "python3"
    },
    "language_info": {
      "codemirror_mode": {
        "name": "ipython",
        "version": 3
      },
      "file_extension": ".py",
      "mimetype": "text/x-python",
      "name": "python",
      "nbconvert_exporter": "python",
      "pygments_lexer": "ipython3",
      "version": "3.12.3"
    }
  },
  "nbformat": 4,
  "nbformat_minor": 0
}
