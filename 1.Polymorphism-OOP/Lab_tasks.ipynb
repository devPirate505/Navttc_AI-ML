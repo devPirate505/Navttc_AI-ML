{
 "cells": [
  {
   "cell_type": "markdown",
   "id": "abfdbd49",
   "metadata": {},
   "source": [
    "<h1 style=\"text-align: center; font-weight: bold\"> Python OOP Practice Tasks </h1>\n",
    "\n",
    "<p>This document contains 10 tasks designed to practice Polymorphism, Operator Overloading, Magic/Dunder Functions, Dynamic Polymorphism, Abstract Classes, Empty Classes, Data Classes, and Keyword Arguments. The difficulty progresses from upper-basic to lower-advanced.</p>\n"
   ]
  },
  {
   "cell_type": "markdown",
   "id": "ae8b61ca",
   "metadata": {},
   "source": [
    "### Polymorphism & Operator Overloading\n",
    "•\tTask 1: Create two classes Circle and Square with a method area(). Use polymorphism to call the area() method on both objects in a loop.\n",
    "\n"
   ]
  },
  {
   "cell_type": "code",
   "execution_count": 7,
   "id": "9dfe11ec",
   "metadata": {},
   "outputs": [
    {
     "name": "stdout",
     "output_type": "stream",
     "text": [
      "Area of circle is 25m²\n",
      "Area of square is 18m²\n"
     ]
    }
   ],
   "source": [
    "class Circle:\n",
    "    def area(self):\n",
    "        print(\"Area of circle is 25m²\")\n",
    "\n",
    "class Square:\n",
    "    def area(self):\n",
    "        print(\"Area of square is 18m²\")\n",
    "\n",
    "shapes = [Circle(), Square()]\n",
    "\n",
    "for shape in shapes:\n",
    "    shape.area()\n"
   ]
  },
  {
   "cell_type": "markdown",
   "id": "fc1a9d97",
   "metadata": {},
   "source": [
    "•\tTask 2: Create a Vector class with two attributes x and y. Implement operator overloading for + (using __add__) so that v1 + v2 adds their coordinates. Test with two Vector objects."
   ]
  },
  {
   "cell_type": "code",
   "execution_count": 9,
   "id": "b8c26976",
   "metadata": {},
   "outputs": [
    {
     "name": "stdout",
     "output_type": "stream",
     "text": [
      "3 + 4 = 7\n",
      "5 + 6 = 11\n"
     ]
    }
   ],
   "source": [
    "class Vectors:\n",
    "    def __init__(self, x, y):\n",
    "        self.x = x\n",
    "        self.y = y\n",
    "    \n",
    "    def __add__(self, other):\n",
    "        return Vectors(self.x + other.x, self.y + other.y)\n",
    "\n",
    "v1 = Vectors(3,5)\n",
    "v2 = Vectors(4,6)\n",
    "\n",
    "result = v1 + v2\n",
    "print(f\"{v1.x} + {v2.x} = {result.x}\")\n",
    "print(f\"{v1.y} + {v2.y} = {result.y}\")"
   ]
  },
  {
   "cell_type": "markdown",
   "id": "d0d3f72a",
   "metadata": {},
   "source": [
    "### Magic Functions / Dunder Functions\n",
    "•\tTask 3: Create a class Book with attributes title and author. Implement __str__ so that printing the object shows: 'Book: Title by Author'. Implement __len__ to return the length of the title."
   ]
  },
  {
   "cell_type": "code",
   "execution_count": 14,
   "id": "5a0b8708",
   "metadata": {},
   "outputs": [
    {
     "name": "stdout",
     "output_type": "stream",
     "text": [
      "Book: The Alchemist by Paulo Coelho\n",
      "Length of the title is 13\n"
     ]
    }
   ],
   "source": [
    "class Book:\n",
    "    def __init__(self, title, author):\n",
    "        self.title = title\n",
    "        self.author = author\n",
    "    \n",
    "    def __str__(self):\n",
    "        return f\"Book: {self.title} by {self.author}\"\n",
    "    \n",
    "    def __len__(self):\n",
    "        return len(self.title)\n",
    "\n",
    "b = Book(\"The Alchemist\", \"Paulo Coelho\")\n",
    "\n",
    "print(b)\n",
    "print(f\"Length of the title is {len(b)}\")\n"
   ]
  },
  {
   "cell_type": "markdown",
   "id": "40d14f1d",
   "metadata": {},
   "source": [
    "•\tTask 4: Create a class Employee with attributes name and salary. Overload the > operator (__gt__) to compare two employees by salary. Test by comparing two employees."
   ]
  },
  {
   "cell_type": "code",
   "execution_count": 20,
   "id": "b7140392",
   "metadata": {},
   "outputs": [
    {
     "name": "stdout",
     "output_type": "stream",
     "text": [
      "Salary of Ali is greater than Ahmad.\n"
     ]
    }
   ],
   "source": [
    "class Employee:\n",
    "    def __init__(self, name, salary):\n",
    "        self.name = name\n",
    "        self.salary = salary\n",
    "    \n",
    "    def __gt__(self, other):\n",
    "        return self.salary > other.salary\n",
    "\n",
    "e1 = Employee(\"Ahmad\", 30000)\n",
    "e2 = Employee(\"Ali\", 40000)\n",
    "\n",
    "if(e1 > e2):\n",
    "    print(f\"Salary of {e1.name} is greater than {e2.name}.\")\n",
    "elif(e2 > e1):\n",
    "    print(f\"Salary of {e2.name} is greater than {e1.name}.\")\n",
    "else:\n",
    "    print(f\"Salary of {e2.name} and {e1.name} is equal.\")"
   ]
  },
  {
   "cell_type": "markdown",
   "id": "7a444be7",
   "metadata": {},
   "source": [
    "### Dynamic Polymorphism (Subclass as Base Class)\n",
    "•\tTask 5: Create a base class Vehicle with a method move(). Create subclasses Car and Bike, overriding move(). Write a function start_journey(vehicle: Vehicle) that accepts any vehicle and calls move(). Test with both Car and Bike objects.\n"
   ]
  },
  {
   "cell_type": "code",
   "execution_count": 21,
   "id": "9d84ea14",
   "metadata": {},
   "outputs": [
    {
     "name": "stdout",
     "output_type": "stream",
     "text": [
      "Car is moving.\n",
      "Bike is moving.\n"
     ]
    }
   ],
   "source": [
    "class Vehicle:\n",
    "    def move(self):\n",
    "        return f\"moving....\"\n",
    "\n",
    "class Car(Vehicle):\n",
    "    def move(self):\n",
    "        return f\"Car is moving.\"\n",
    "\n",
    "class Bike(Vehicle):\n",
    "    def move(self):\n",
    "        return f\"Bike is moving.\"\n",
    "\n",
    "def start_journey(vehicle):\n",
    "    print(vehicle.move())\n",
    "\n",
    "car = Car()\n",
    "bike = Bike()\n",
    "\n",
    "start_journey(car)\n",
    "start_journey(bike)"
   ]
  },
  {
   "cell_type": "markdown",
   "id": "70bc8aa4",
   "metadata": {},
   "source": [
    "•\tTask 6: Implement a base class Shape with draw() method. Subclasses: Circle, Rectangle, Triangle. Write a loop that takes a list of mixed shapes and calls draw() on each."
   ]
  },
  {
   "cell_type": "code",
   "execution_count": 24,
   "id": "24e70ebc",
   "metadata": {},
   "outputs": [
    {
     "name": "stdout",
     "output_type": "stream",
     "text": [
      "Drawing a circle...\n",
      "Drawing a rectangle...\n",
      "Drawing a triangle...\n"
     ]
    }
   ],
   "source": [
    "class Shape:\n",
    "    def draw(self):\n",
    "        return f\"Drawing a shape...\"\n",
    "\n",
    "class Circle(Shape):\n",
    "    def draw(self):\n",
    "        return f\"Drawing a circle...\"\n",
    "\n",
    "class Rectangle(Shape):\n",
    "    def draw(self):\n",
    "        return f\"Drawing a rectangle...\"\n",
    "\n",
    "class Triangle(Shape):\n",
    "    def draw(self):\n",
    "        return f\"Drawing a triangle...\"\n",
    "\n",
    "shapes = [Circle(), Rectangle(), Triangle()]\n",
    "\n",
    "for shape in shapes:\n",
    "    print(shape.draw())"
   ]
  },
  {
   "cell_type": "markdown",
   "id": "e6517b14",
   "metadata": {},
   "source": [
    "### Abstract Class / Empty Class / Data Class\n",
    "•\tTask 7: Create an abstract class Appliance with an abstract method turn_on(). Implement subclasses WashingMachine and Refrigerator. Each should implement turn_on() differently.\n"
   ]
  },
  {
   "cell_type": "code",
   "execution_count": 29,
   "id": "122be097",
   "metadata": {},
   "outputs": [
    {
     "name": "stdout",
     "output_type": "stream",
     "text": [
      "Washing Machine is turning on...\n",
      "Refrigerator is turning on...\n"
     ]
    }
   ],
   "source": [
    "from abc import ABC, abstractmethod\n",
    "\n",
    "class Appliance(ABC):\n",
    "    \n",
    "    @abstractmethod\n",
    "    def turn_on(self):\n",
    "        pass\n",
    "\n",
    "class WashingMachine(Appliance):\n",
    "\n",
    "    def turn_on(self):\n",
    "        return f\"Washing Machine is turning on...\"\n",
    "\n",
    "class Refrigerator(Appliance):\n",
    "\n",
    "    def turn_on(self):\n",
    "        return f\"Refrigerator is turning on...\"\n",
    "\n",
    "wm = WashingMachine()\n",
    "rf = Refrigerator()\n",
    "\n",
    "print(wm.turn_on())\n",
    "print(rf.turn_on())"
   ]
  },
  {
   "cell_type": "markdown",
   "id": "652faee8",
   "metadata": {},
   "source": [
    "•\tTask 8: Create an empty class Placeholder using pass. Dynamically add attributes name and value after creating the object. Print them."
   ]
  },
  {
   "cell_type": "code",
   "execution_count": 31,
   "id": "6b9d0758",
   "metadata": {},
   "outputs": [
    {
     "name": "stdout",
     "output_type": "stream",
     "text": [
      "Placeholder has Some value.\n"
     ]
    }
   ],
   "source": [
    "class Placeholder:\n",
    "    pass\n",
    "\n",
    "p = Placeholder()\n",
    "\n",
    "p.name = \"Placeholder\"\n",
    "p.value = \"Some value\"\n",
    "\n",
    "print(f\"{p.name} has {p.value}.\")"
   ]
  },
  {
   "cell_type": "markdown",
   "id": "8f1f79ef",
   "metadata": {},
   "source": [
    "•\tTask 9: Create a data class Student with fields name, age, and grade. Create 3 students and store them in a list. Loop through and print their details."
   ]
  },
  {
   "cell_type": "code",
   "execution_count": 32,
   "id": "d82523db",
   "metadata": {},
   "outputs": [
    {
     "name": "stdout",
     "output_type": "stream",
     "text": [
      "Name: Ahmad   Age: 17     Grade: A\n",
      "Name: Ali   Age: 16     Grade: A+\n",
      "Name: Ahmar   Age: 18     Grade: B\n"
     ]
    }
   ],
   "source": [
    "class Student:\n",
    "    def __init__(self, name, age, grade):\n",
    "        self.name = name\n",
    "        self.age = age\n",
    "        self.grade = grade\n",
    "    \n",
    "    def print_data(self):\n",
    "        print(f\"Name: {self.name}   Age: {self.age}     Grade: {self.grade}\")\n",
    "\n",
    "students = [Student(\"Ahmad\", 17, \"A\"), Student(\"Ali\", 16, \"A+\"), Student(\"Ahmar\", 18, \"B\")]\n",
    "\n",
    "for student in students:\n",
    "    student.print_data()\n",
    "\n",
    "\n"
   ]
  },
  {
   "cell_type": "markdown",
   "id": "9a30bb69",
   "metadata": {},
   "source": [
    "### Keyword Arguments\n",
    "•\tTask 10: Write a function register_employee(name, age, role, salary) that prints employee details. Call it once using positional arguments and once using keyword arguments in different order.\n"
   ]
  },
  {
   "cell_type": "code",
   "execution_count": 33,
   "id": "1c8736b5",
   "metadata": {},
   "outputs": [
    {
     "name": "stdout",
     "output_type": "stream",
     "text": [
      "Employee Details:\n",
      "Name: Alice\n",
      "Age: 28\n",
      "Role: Software Engineer\n",
      "Salary: 70000\n",
      "------------------------------\n",
      "Employee Details:\n",
      "Name: Bob\n",
      "Age: 25\n",
      "Role: Data Analyst\n",
      "Salary: 60000\n",
      "------------------------------\n"
     ]
    }
   ],
   "source": [
    "def register_employee(name, age, role, salary):\n",
    "    print(\"Employee Details:\")\n",
    "    print(f\"Name: {name}\")\n",
    "    print(f\"Age: {age}\")\n",
    "    print(f\"Role: {role}\")\n",
    "    print(f\"Salary: {salary}\")\n",
    "    print(\"-\" * 30)\n",
    "\n",
    "\n",
    "register_employee(\"Alice\", 28, \"Software Engineer\", 70000)\n",
    "\n",
    "\n",
    "register_employee(role=\"Data Analyst\", salary=60000, name=\"Bob\", age=25)"
   ]
  }
 ],
 "metadata": {
  "kernelspec": {
   "display_name": "Python 3",
   "language": "python",
   "name": "python3"
  },
  "language_info": {
   "codemirror_mode": {
    "name": "ipython",
    "version": 3
   },
   "file_extension": ".py",
   "mimetype": "text/x-python",
   "name": "python",
   "nbconvert_exporter": "python",
   "pygments_lexer": "ipython3",
   "version": "3.12.3"
  }
 },
 "nbformat": 4,
 "nbformat_minor": 5
}
