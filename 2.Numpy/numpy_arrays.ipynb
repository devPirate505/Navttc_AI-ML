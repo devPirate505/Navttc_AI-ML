{
 "cells": [
  {
   "cell_type": "markdown",
   "id": "84dd74bc",
   "metadata": {},
   "source": [
    "<h1 style=\"text-align: center\">📝 Tasks on NumPy Arrays</h1> \n",
    "\n",
    "### Task 1: Student Grades Analysis\n",
    "- Create a 2D NumPy array representing marks of 5 students in 4 subjects.  \n",
    "- Find:  \n",
    "    - Average marks per student  \n",
    "    - Highest marks in each subject  \n",
    "    - Index of student with the lowest total score  \n"
   ]
  },
  {
   "cell_type": "code",
   "execution_count": 20,
   "id": "09832227",
   "metadata": {},
   "outputs": [
    {
     "name": "stdout",
     "output_type": "stream",
     "text": [
      "Average marks of Student1: 74.25\n",
      "Average marks of Student2: 75.5\n",
      "Average marks of Student3: 70.0\n",
      "Average marks of Student4: 62.5\n",
      "Average marks of Student5: 74.25\n",
      "\n",
      "Highest marks of Subject1: 86\n",
      "Highest marks of Subject2: 79\n",
      "Highest marks of Subject3: 81\n",
      "Highest marks of Subject4: 79\n",
      "\n",
      "Index of student with lowest total score: 3\n"
     ]
    }
   ],
   "source": [
    "import numpy as np\n",
    "\n",
    "s1 = [86, 70, 74, 67]\n",
    "s2 = [72, 79, 81, 70]\n",
    "s3 = [70, 66, 65, 79]\n",
    "s4 = [56, 64, 70, 60]\n",
    "s5 = [69, 75, 80, 73]\n",
    "\n",
    "marks_arr = np.array([s1, s2, s3, s4, s5])\n",
    "\n",
    "avg_per_student = np.mean(marks_arr, axis=1)\n",
    "\n",
    "for i, avg in enumerate(avg_per_student, start=1):\n",
    "    print(f\"Average marks of Student{i}:\", avg)\n",
    "\n",
    "highest_per_subject = np.max(marks_arr, axis=0)\n",
    "\n",
    "print(\"\")\n",
    "\n",
    "for i, highest in enumerate(highest_per_subject, start=1):\n",
    "    print(f\"Highest marks of Subject{i}:\", highest)\n",
    "\n",
    "\n",
    "total_scores = np.sum(marks_arr, axis=1)\n",
    "lowest = np.argmin(total_scores)\n",
    "\n",
    "print(\"\\nIndex of student with lowest total score:\", lowest)"
   ]
  },
  {
   "cell_type": "markdown",
   "id": "50d0d966",
   "metadata": {},
   "source": [
    "### Task 2: Image Reshaping\n",
    "- Create a 1D array of size 36 with values from 0–35.\n",
    "- Reshape it into:\n",
    "    - A 6×6 matrix\n",
    "    - Then into a 3D array of shape (3, 3, 4)\n",
    "- Print the shapes at each step.\n"
   ]
  },
  {
   "cell_type": "code",
   "execution_count": 32,
   "id": "66bf5f16",
   "metadata": {},
   "outputs": [
    {
     "name": "stdout",
     "output_type": "stream",
     "text": [
      "6*6 matrix:\n",
      " [[ 0  1  2  3  4  5]\n",
      " [ 6  7  8  9 10 11]\n",
      " [12 13 14 15 16 17]\n",
      " [18 19 20 21 22 23]\n",
      " [24 25 26 27 28 29]\n",
      " [30 31 32 33 34 35]]\n",
      "\n",
      "3d matrix:\n",
      " [[[ 0  1  2  3]\n",
      "  [ 4  5  6  7]\n",
      "  [ 8  9 10 11]]\n",
      "\n",
      " [[12 13 14 15]\n",
      "  [16 17 18 19]\n",
      "  [20 21 22 23]]\n",
      "\n",
      " [[24 25 26 27]\n",
      "  [28 29 30 31]\n",
      "  [32 33 34 35]]]\n"
     ]
    }
   ],
   "source": [
    "array_of_36 = np.arange(36)\n",
    "\n",
    "shape_change = array_of_36.reshape(6,6)\n",
    "\n",
    "_3d_array = array_of_36.reshape(3,3,4)\n",
    "\n",
    "\n",
    "print(f\"6*6 matrix:\\n {shape_change}\")\n",
    "print(f\"\\n3d matrix:\\n {_3d_array}\")"
   ]
  },
  {
   "cell_type": "markdown",
   "id": "2c45123d",
   "metadata": {},
   "source": [
    "### Task 3: Random Data Simulation\n",
    "- Generate a 3×4 NumPy array of random integers (1–100).\n",
    "- Sort each row individually.\n",
    "- Insert a new column at the end with the row sums.\n"
   ]
  },
  {
   "cell_type": "code",
   "execution_count": 39,
   "id": "b2eb54e4",
   "metadata": {},
   "outputs": [
    {
     "name": "stdout",
     "output_type": "stream",
     "text": [
      "Random numbers:\n",
      " [[ 13 100  63   8]\n",
      " [ 46  40  58  63]\n",
      " [ 62  67  32   2]]\n",
      "Sorted:\n",
      " [[  8  13  63 100]\n",
      " [ 40  46  58  63]\n",
      " [  2  32  62  67]]\n",
      "Rows sum:\n",
      " [[ 13 100  63   8 184]\n",
      " [ 46  40  58  63 207]\n",
      " [ 62  67  32   2 163]]\n"
     ]
    }
   ],
   "source": [
    "random_nums = np.random.randint(1, 101, size=(3,4))\n",
    "print(f\"Random numbers:\\n {random_nums}\")\n",
    "\n",
    "sorted = np.sort(random_nums, axis=1)\n",
    "print(f\"Sorted:\\n {sorted}\")\n",
    "\n",
    "row_sums = np.sum(random_nums, axis=1).reshape(-1, 1)\n",
    "\n",
    "random_nums = np.hstack((random_nums, row_sums))\n",
    "print(f\"Rows sum:\\n {random_nums}\")"
   ]
  },
  {
   "cell_type": "markdown",
   "id": "b367fd09",
   "metadata": {},
   "source": [
    "### Task 4: Splitting & Combining Data\n",
    "- Create a 1D array of numbers from 1 to 20.\n",
    "- Split it into 4 equal parts.\n",
    "- Combine the 2nd and 4th parts into one array.\n"
   ]
  },
  {
   "cell_type": "code",
   "execution_count": 44,
   "id": "fc8a49e0",
   "metadata": {},
   "outputs": [
    {
     "name": "stdout",
     "output_type": "stream",
     "text": [
      "Part 1: [1 2 3 4 5]\n",
      "Part 2: [ 6  7  8  9 10]\n",
      "Part 3: [11 12 13 14 15]\n",
      "Part 4: [16 17 18 19 20]\n",
      "\n",
      "Combined 2nd and 4th parts:\n",
      " [ 6  7  8  9 10 16 17 18 19 20]\n"
     ]
    }
   ],
   "source": [
    "my_arr = np.arange(1,21)\n",
    "\n",
    "splited_arr = np.split(my_arr, 4)\n",
    "\n",
    "for i,p in enumerate(splited_arr):\n",
    "    print(f\"Part {i+1}: {p}\")\n",
    "\n",
    "combined = np.concatenate((splited_arr[1], splited_arr[3]))\n",
    "print(\"\\nCombined 2nd and 4th parts:\\n\", combined)"
   ]
  },
  {
   "cell_type": "markdown",
   "id": "9b054b9a",
   "metadata": {},
   "source": [
    "### Task 5: Data Cleaning with NumPy\n",
    "- Given an array:\n",
    "- arr = np.array([12, -5, 0, 23, -15, 45, 30, -2])\n",
    "- Remove all negative numbers.\n",
    "- Insert the value 99 at index 2.\n",
    "- Sort the final array in ascending order.\n"
   ]
  },
  {
   "cell_type": "code",
   "execution_count": 53,
   "id": "6883ded7",
   "metadata": {},
   "outputs": [
    {
     "name": "stdout",
     "output_type": "stream",
     "text": [
      "Array after deleting negative numbers:\n",
      " [12  0 23 45 30]\n",
      "Array after insertion:\n",
      " [12  0 99 23 45 30]\n",
      "Final array:\n",
      " [ 0 12 23 30 45 99]\n"
     ]
    }
   ],
   "source": [
    "arr = np.array([12, -5, 0, 23, -15, 45, 30, -2])\n",
    "arr = arr[arr >= 0]\n",
    "print(\"Array after deleting negative numbers:\\n\", arr)\n",
    "\n",
    "arr = np.insert(arr, 2, 99)\n",
    "print(\"Array after insertion:\\n\", arr)\n",
    "\n",
    "arr = np.sort(arr)\n",
    "\n",
    "print(\"Final array:\\n\", arr)\n"
   ]
  },
  {
   "cell_type": "markdown",
   "id": "9616bb2e",
   "metadata": {},
   "source": [
    "### Task 6: Stock Price Analysis (3D Array)\n",
    "- Create a 3D NumPy array of shape (2, 5, 3) representing stock prices:\n",
    "    - 2 companies\n",
    "    - 5 days\n",
    "    - 3 features: [Open, High, Close]\n",
    "- Find:\n",
    "    - Maximum closing price for each company\n",
    "    - Day index when each company’s stock opened lowest\n"
   ]
  },
  {
   "cell_type": "code",
   "execution_count": 79,
   "id": "51d034de",
   "metadata": {},
   "outputs": [
    {
     "name": "stdout",
     "output_type": "stream",
     "text": [
      "Stocks\n",
      " [[[237 264 470]\n",
      "  [292 167 366]\n",
      "  [466 471 441]\n",
      "  [361 390 130]\n",
      "  [452 396 468]]\n",
      "\n",
      " [[397 269 169]\n",
      "  [195 217 478]\n",
      "  [452 142 450]\n",
      "  [267 107 278]\n",
      "  [121 296 159]]]\n",
      "\n",
      "Maximum closing price for each company: [470 478]\n",
      "\n",
      "Day index of lowest open price of each company: [0 4]\n"
     ]
    }
   ],
   "source": [
    "stock_prices = np.random.randint(100, 501, size=(2,5,3))\n",
    "\n",
    "print(\"Stocks\\n\", stock_prices)\n",
    "\n",
    "close = stock_prices[:,:,2]\n",
    "\n",
    "max_close = np.max(close, axis=1)\n",
    "\n",
    "print(\"\\nMaximum closing price for each company:\", max_close)\n",
    "\n",
    "open = stock_prices[:,:,0]\n",
    "lowest_open_day = np.argmin(open, axis=1)\n",
    "print(\"\\nDay index of lowest open price of each company:\", lowest_open_day)"
   ]
  }
 ],
 "metadata": {
  "kernelspec": {
   "display_name": "Python 3",
   "language": "python",
   "name": "python3"
  },
  "language_info": {
   "codemirror_mode": {
    "name": "ipython",
    "version": 3
   },
   "file_extension": ".py",
   "mimetype": "text/x-python",
   "name": "python",
   "nbconvert_exporter": "python",
   "pygments_lexer": "ipython3",
   "version": "3.12.3"
  }
 },
 "nbformat": 4,
 "nbformat_minor": 5
}
